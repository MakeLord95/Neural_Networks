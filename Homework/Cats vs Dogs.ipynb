{
 "cells": [
  {
   "metadata": {},
   "cell_type": "markdown",
   "source": "# Cats vs Dogs",
   "id": "421d65a288b5a9d9"
  },
  {
   "metadata": {},
   "cell_type": "markdown",
   "source": [
    "### 1. Introduction & Objectives\n",
    "\n",
    "In this project, we will build a Convolutional Neural Network (CNN) to classify images of cats and dogs. The goal is to develop a model that can accurately differentiate between these two types of animals. The dataset we will be using contains 25,000 images in total, with 12,500 images of cats and 12,500 images of dogs. We will preprocess and divide the images into training, validation, and test sets to ensure robust model performance.\n",
    "\n",
    "We will use Keras, with Tensorflow as the backend, to implement and train the CNN. After training, we will evaluate the model’s performance using separate test data to measure its ability to generalize to unseen images."
   ],
   "id": "1ddb5f8d5eb10c8f"
  },
  {
   "metadata": {},
   "cell_type": "markdown",
   "source": [
    "### 2. Data Understanding\n",
    "\n",
    "The dataset consists of 25,000 images, with an equal split between cats and dogs (12,500 images of each). To facilitate model training and evaluation, we will use the following subsets:\n",
    "\n",
    "    Training set: 1,000 images of cats and 1,000 images of dogs.\n",
    "    Validation set: 500 images of cats and 500 images of dogs.\n",
    "    Test set: 1,000 images of cats and 1,000 images of dogs.\n",
    "\n",
    "\n",
    "\n",
    "We will use a Python script to create these subsets from the original dataset, as shown below:"
   ],
   "id": "309f149b9614ed7d"
  },
  {
   "metadata": {
    "ExecuteTime": {
     "end_time": "2024-10-24T09:59:05.669793Z",
     "start_time": "2024-10-24T09:59:00.729404Z"
    }
   },
   "cell_type": "code",
   "source": [
    "import os\n",
    "import pathlib\n",
    "import shutil\n",
    "\n",
    "original_dir = pathlib.Path(\"Inputs/dogs-vs-cats/train\")\n",
    "new_base_dir = pathlib.Path(\"Inputs/cats_vs_dogs_small\")\n",
    "\n",
    "\n",
    "def make_subset(subset_name, start_index, end_index):\n",
    "    for category in (\"cat\", \"dog\"):\n",
    "        dir = new_base_dir / subset_name / category\n",
    "        os.makedirs(dir)\n",
    "        fnames = [f\"{category}.{i}.jpg\"\n",
    "                  for i in range(start_index, end_index)]\n",
    "        for fname in fnames:\n",
    "            shutil.copyfile(src=original_dir / fname,\n",
    "                            dst=dir / fname)\n",
    "\n",
    "\n",
    "make_subset(\"train\", start_index=0, end_index=1000)\n",
    "make_subset(\"validation\", start_index=1000, end_index=1500)\n",
    "make_subset(\"test\", start_index=1500, end_index=2500)"
   ],
   "id": "6c848d4a0936b642",
   "outputs": [],
   "execution_count": 9
  },
  {
   "metadata": {},
   "cell_type": "markdown",
   "source": "This ensures the dataset is structured for training, validation, and testing phases, with a balanced distribution of cat and dog images in each subset.",
   "id": "ccc746c385866f49"
  },
  {
   "metadata": {},
   "cell_type": "markdown",
   "source": [
    "#### 2.1 Importing Required Libraries and Loading the Data\n",
    "\n",
    "We will start by importing the libraries we will be using, and loading the data. We will also resize the images to 180x180px ad pack them into batches of 32."
   ],
   "id": "a0bd4f5e555ba8c1"
  },
  {
   "cell_type": "code",
   "id": "initial_id",
   "metadata": {
    "collapsed": true,
    "ExecuteTime": {
     "end_time": "2024-10-24T10:00:00.729956Z",
     "start_time": "2024-10-24T10:00:00.715719Z"
    }
   },
   "source": [
    "import keras\n",
    "from keras import layers\n",
    "from keras.src.utils import image_dataset_from_directory\n",
    "import tensorflow as tf"
   ],
   "outputs": [],
   "execution_count": 10
  },
  {
   "metadata": {
    "ExecuteTime": {
     "end_time": "2024-10-24T10:03:03.176884Z",
     "start_time": "2024-10-24T10:02:58.777205Z"
    }
   },
   "cell_type": "code",
   "source": [
    "train_dataset = image_dataset_from_directory(new_base_dir / 'train', image_size=(180, 180), batch_size=32)\n",
    "validation_dataset = image_dataset_from_directory(new_base_dir / 'validation', image_size=(180, 180), batch_size=32)\n",
    "test_dataset = image_dataset_from_directory(new_base_dir / 'test', image_size=(180, 180), batch_size=32)"
   ],
   "id": "cfdc3e45abc606fc",
   "outputs": [
    {
     "name": "stdout",
     "output_type": "stream",
     "text": [
      "Found 2000 files belonging to 2 classes.\n",
      "Found 1000 files belonging to 2 classes.\n",
      "Found 2000 files belonging to 2 classes.\n"
     ]
    }
   ],
   "execution_count": 11
  },
  {
   "metadata": {},
   "cell_type": "markdown",
   "source": "The data has been loaded, resized and packed into batches. We can now proceed to creating the model.",
   "id": "fa24ae2d3dd94c89"
  },
  {
   "metadata": {},
   "cell_type": "markdown",
   "source": [
    "### Creating the model\n",
    "\n",
    "We will build a CNN model using Keras to classify the images of cats and dogs. The model will consist of three convolutional layers, each followed by a max-pooling layer. We will also add a dropout layer to prevent overfitting. The final layer will be a dense layer with a single neuron and a sigmoid activation function to output the probability of the image being a dog."
   ],
   "id": "e8ee89ac4b85f36"
  },
  {
   "metadata": {},
   "cell_type": "code",
   "outputs": [],
   "execution_count": null,
   "source": "",
   "id": "ed01739f3a5cb3fe"
  }
 ],
 "metadata": {
  "kernelspec": {
   "display_name": "Python 3",
   "language": "python",
   "name": "python3"
  },
  "language_info": {
   "codemirror_mode": {
    "name": "ipython",
    "version": 2
   },
   "file_extension": ".py",
   "mimetype": "text/x-python",
   "name": "python",
   "nbconvert_exporter": "python",
   "pygments_lexer": "ipython2",
   "version": "2.7.6"
  }
 },
 "nbformat": 4,
 "nbformat_minor": 5
}
