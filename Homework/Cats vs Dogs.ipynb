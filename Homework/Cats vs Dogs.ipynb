{
 "cells": [
  {
   "metadata": {},
   "cell_type": "markdown",
   "source": "# Cats vs Dogs",
   "id": "421d65a288b5a9d9"
  },
  {
   "metadata": {},
   "cell_type": "markdown",
   "source": [
    "### 1. Introduction & Objectives\n",
    "\n",
    "In this project, we will build a Convolutional Neural Network (CNN) to classify images of cats and dogs. The goal is to develop a model that can accurately differentiate between these two types of animals. The dataset we will be using contains 25,000 images in total, with 12,500 images of cats and 12,500 images of dogs. We will preprocess and divide the images into training, validation, and test sets to ensure robust model performance.\n",
    "\n",
    "We will use Keras, with Tensorflow as the backend, to implement and train the CNN. After training, we will evaluate the model’s performance using separate test data to measure its ability to generalize to unseen images."
   ],
   "id": "1ddb5f8d5eb10c8f"
  },
  {
   "metadata": {},
   "cell_type": "markdown",
   "source": [
    "### 2. Data Understanding\n",
    "\n",
    "The dataset consists of 25,000 images, with an equal split between cats and dogs (12,500 images of each). To facilitate model training and evaluation, we will use the following subsets:\n",
    "\n",
    "    Training set: 1,000 images of cats and 1,000 images of dogs.\n",
    "    Validation set: 500 images of cats and 500 images of dogs.\n",
    "    Test set: 1,000 images of cats and 1,000 images of dogs.\n",
    "\n",
    "\n",
    "\n",
    "We will use a Python script to create these subsets from the original dataset, as shown below:"
   ],
   "id": "309f149b9614ed7d"
  },
  {
   "metadata": {
    "ExecuteTime": {
     "end_time": "2024-10-24T11:39:18.587729Z",
     "start_time": "2024-10-24T11:39:13.978440Z"
    }
   },
   "cell_type": "code",
   "source": [
    "import os\n",
    "import pathlib\n",
    "import shutil\n",
    "\n",
    "original_dir = pathlib.Path(\"../Inputs/dogs-vs-cats-orig/train\")\n",
    "new_base_dir = pathlib.Path(\"../Inputs/cats_vs_dogs_data\")\n",
    "\n",
    "\n",
    "def make_subset(subset_name, start_index, end_index):\n",
    "    for category in (\"cat\", \"dog\"):\n",
    "        dir = new_base_dir / subset_name / category\n",
    "        os.makedirs(dir)\n",
    "        fnames = [f\"{category}.{i}.jpg\"\n",
    "                  for i in range(start_index, end_index)]\n",
    "        for fname in fnames:\n",
    "            shutil.copyfile(src=original_dir / fname,\n",
    "                            dst=dir / fname)\n",
    "\n",
    "\n",
    "make_subset(\"train\", start_index=0, end_index=1000)\n",
    "make_subset(\"validation\", start_index=1000, end_index=1500)\n",
    "make_subset(\"test\", start_index=1500, end_index=2500)"
   ],
   "id": "6c848d4a0936b642",
   "outputs": [],
   "execution_count": 5
  },
  {
   "metadata": {},
   "cell_type": "markdown",
   "source": "This ensures the dataset is structured for training, validation, and testing phases, with a balanced distribution of cat and dog images in each subset.",
   "id": "ccc746c385866f49"
  },
  {
   "metadata": {},
   "cell_type": "markdown",
   "source": [
    "#### 2.1 Importing Required Libraries and Loading the Data\n",
    "\n",
    "We will begin by importing the necessary libraries, including Keras and TensorFlow, and using the `image_dataset_from_directory` function to load our datasets. The training, validation, and test datasets will be loaded from their respective directories, with each image being resized to 180x180 pixels and packed into batches of 32 for efficient processing."
   ],
   "id": "a0bd4f5e555ba8c1"
  },
  {
   "cell_type": "code",
   "id": "initial_id",
   "metadata": {
    "collapsed": true,
    "ExecuteTime": {
     "end_time": "2024-10-24T11:39:23.253626Z",
     "start_time": "2024-10-24T11:39:23.237923Z"
    }
   },
   "source": [
    "import keras\n",
    "from keras import layers\n",
    "from keras.src.utils import image_dataset_from_directory\n",
    "import tensorflow as tf"
   ],
   "outputs": [],
   "execution_count": 6
  },
  {
   "metadata": {
    "ExecuteTime": {
     "end_time": "2024-10-24T11:39:28.361985Z",
     "start_time": "2024-10-24T11:39:26.389902Z"
    }
   },
   "cell_type": "code",
   "source": [
    "train_dataset = image_dataset_from_directory(new_base_dir / 'train', image_size=(180, 180), batch_size=32)\n",
    "validation_dataset = image_dataset_from_directory(new_base_dir / 'validation', image_size=(180, 180), batch_size=32)\n",
    "test_dataset = image_dataset_from_directory(new_base_dir / 'test', image_size=(180, 180), batch_size=32)"
   ],
   "id": "cfdc3e45abc606fc",
   "outputs": [
    {
     "name": "stdout",
     "output_type": "stream",
     "text": [
      "Found 2000 files belonging to 2 classes.\n",
      "Found 1000 files belonging to 2 classes.\n",
      "Found 2000 files belonging to 2 classes.\n"
     ]
    }
   ],
   "execution_count": 7
  },
  {
   "metadata": {},
   "cell_type": "markdown",
   "source": "The data has been successfully loaded from the specified directories, with each image resized to 180x180 pixels and organized into batches of 32. Both the training and validation datasets are ready, and we also have a test dataset prepared for evaluation. We can now proceed with building and training the model for our image classification task.",
   "id": "fa24ae2d3dd94c89"
  },
  {
   "metadata": {},
   "cell_type": "markdown",
   "source": [
    "### 3. Creating the model\n",
    "\n",
    "We will build a CNN model using Keras to classify images of cats and dogs. The model will start with an input layer for images of shape (180, 180, 3). The input images will be rescaled by dividing by 255. Then, the model will include five convolutional layers, the first with 32 filters, followed by layers with 64, 128, and two consecutive layers with 256 filters, all using a 3x3 kernel and ReLU activation. Each convolutional layer will be followed by a max-pooling layer to downsample the feature maps. After the last convolutional block, the feature maps will be flattened, and the output will be a dense layer with a single neuron and a sigmoid activation function, providing the probability of the image being a dog."
   ],
   "id": "e8ee89ac4b85f36"
  },
  {
   "metadata": {
    "ExecuteTime": {
     "end_time": "2024-10-24T11:35:14.534756Z",
     "start_time": "2024-10-24T11:35:14.529796Z"
    }
   },
   "cell_type": "code",
   "source": [
    "inputs = keras.Input(shape=(180, 180, 3))\n",
    "\n",
    "x = layers.Rescaling(1. / 255)(inputs)\n",
    "x = layers.Conv2D(filters=32, kernel_size=3, activation=\"relu\")(x)\n",
    "x = layers.MaxPooling2D(pool_size=2)(x)\n",
    "x = layers.Conv2D(filters=64, kernel_size=3, activation=\"relu\")(x)\n",
    "x = layers.MaxPooling2D(pool_size=2)(x)\n",
    "x = layers.Conv2D(filters=128, kernel_size=3, activation=\"relu\")(x)\n",
    "x = layers.MaxPooling2D(pool_size=2)(x)\n",
    "x = layers.Conv2D(filters=256, kernel_size=3, activation=\"relu\")(x)\n",
    "x = layers.MaxPooling2D(pool_size=2)(x)\n",
    "x = layers.Conv2D(filters=256, kernel_size=3, activation=\"relu\")(x)\n",
    "x = layers.Flatten()(x)\n",
    "\n",
    "outputs = layers.Dense(1, activation=\"sigmoid\")(x)\n",
    "model = keras.Model(inputs=inputs, outputs=outputs)"
   ],
   "id": "ed01739f3a5cb3fe",
   "outputs": [],
   "execution_count": null
  },
  {
   "metadata": {},
   "cell_type": "markdown",
   "source": "The CNN model has been successfully built with multiple convolutional and max-pooling layers to extract features from the input images. The architecture also includes a final dense layer for binary classification. We are now ready to proceed with compiling the model and fitting it to our training data for the cat vs. dog image classification task.",
   "id": "48d10768b76c6543"
  },
  {
   "metadata": {},
   "cell_type": "markdown",
   "source": "",
   "id": "a10190d72ad090c2"
  },
  {
   "metadata": {},
   "cell_type": "code",
   "outputs": [],
   "execution_count": null,
   "source": "",
   "id": "760fb5be4fb13ebd"
  }
 ],
 "metadata": {
  "kernelspec": {
   "display_name": "Python 3",
   "language": "python",
   "name": "python3"
  },
  "language_info": {
   "codemirror_mode": {
    "name": "ipython",
    "version": 2
   },
   "file_extension": ".py",
   "mimetype": "text/x-python",
   "name": "python",
   "nbconvert_exporter": "python",
   "pygments_lexer": "ipython2",
   "version": "2.7.6"
  }
 },
 "nbformat": 4,
 "nbformat_minor": 5
}
