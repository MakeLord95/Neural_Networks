{
 "cells": [
  {
   "metadata": {},
   "cell_type": "markdown",
   "source": "# Cats vs Dogs",
   "id": "421d65a288b5a9d9"
  },
  {
   "metadata": {},
   "cell_type": "markdown",
   "source": [
    "### 1. Introduction & Objectives\n",
    "\n",
    "In this project, we will build a Convolutional Neural Network (CNN) to classify images of cats and dogs. The goal is to develop a model that can accurately differentiate between these two types of animals. The dataset we will be using contains 25,000 images in total, with 12,500 images of cats and 12,500 images of dogs. We will preprocess and divide the images into training, validation, and test sets to ensure robust model performance.\n",
    "\n",
    "We will use Keras, with Tensorflow as the backend, to implement and train the CNN. After training, we will evaluate the model’s performance using separate test data to measure its ability to generalize to unseen images."
   ],
   "id": "1ddb5f8d5eb10c8f"
  },
  {
   "metadata": {},
   "cell_type": "markdown",
   "source": [
    "### 2. Data Understanding\n",
    "\n",
    "The dataset consists of 25,000 images, with an equal split between cats and dogs (12,500 images of each). To facilitate model training and evaluation, we will use the following subsets:\n",
    "\n",
    "    Training set: 1,000 images of cats and 1,000 images of dogs.\n",
    "    Validation set: 500 images of cats and 500 images of dogs.\n",
    "    Test set: 1,000 images of cats and 1,000 images of dogs.\n",
    "\n",
    "\n",
    "\n",
    "We will use a Python script to create these subsets from the original dataset, as shown below:"
   ],
   "id": "309f149b9614ed7d"
  },
  {
   "metadata": {
    "ExecuteTime": {
     "end_time": "2024-10-24T11:35:04.405079Z",
     "start_time": "2024-10-24T11:34:59.182249Z"
    }
   },
   "cell_type": "code",
   "source": [
    "import os\n",
    "import pathlib\n",
    "import shutil\n",
    "\n",
    "original_dir = pathlib.Path(\"../Inputs/dogs-vs-cats/train\")\n",
    "new_base_dir = pathlib.Path(\"../Inputs/cats_vs_dogs\")\n",
    "\n",
    "\n",
    "def make_subset(subset_name, start_index, end_index):\n",
    "    for category in (\"cat\", \"dog\"):\n",
    "        dir = new_base_dir / subset_name / category\n",
    "        os.makedirs(dir)\n",
    "        fnames = [f\"{category}.{i}.jpg\"\n",
    "                  for i in range(start_index, end_index)]\n",
    "        for fname in fnames:\n",
    "            shutil.copyfile(src=original_dir / fname,\n",
    "                            dst=dir / fname)\n",
    "\n",
    "\n",
    "make_subset(\"train\", start_index=0, end_index=1000)\n",
    "make_subset(\"validation\", start_index=1000, end_index=1500)\n",
    "make_subset(\"test\", start_index=1500, end_index=2500)"
   ],
   "id": "6c848d4a0936b642",
   "outputs": [],
   "execution_count": 2
  },
  {
   "metadata": {},
   "cell_type": "markdown",
   "source": "This ensures the dataset is structured for training, validation, and testing phases, with a balanced distribution of cat and dog images in each subset.",
   "id": "ccc746c385866f49"
  },
  {
   "metadata": {},
   "cell_type": "markdown",
   "source": [
    "#### 2.1 Importing Required Libraries and Loading the Data\n",
    "\n",
    "We will start by importing the libraries we will be using, and loading the data. We will also resize the images to 180x180px ad pack them into batches of 32."
   ],
   "id": "a0bd4f5e555ba8c1"
  },
  {
   "cell_type": "code",
   "id": "initial_id",
   "metadata": {
    "collapsed": true,
    "ExecuteTime": {
     "end_time": "2024-10-24T11:35:13.875728Z",
     "start_time": "2024-10-24T11:35:04.433037Z"
    }
   },
   "source": [
    "import keras\n",
    "from keras import layers\n",
    "from keras.src.utils import image_dataset_from_directory\n",
    "import tensorflow as tf"
   ],
   "outputs": [
    {
     "name": "stderr",
     "output_type": "stream",
     "text": [
      "2024-10-24 14:35:07.341059: E external/local_xla/xla/stream_executor/cuda/cuda_fft.cc:485] Unable to register cuFFT factory: Attempting to register factory for plugin cuFFT when one has already been registered\n",
      "2024-10-24 14:35:07.502271: E external/local_xla/xla/stream_executor/cuda/cuda_dnn.cc:8454] Unable to register cuDNN factory: Attempting to register factory for plugin cuDNN when one has already been registered\n",
      "2024-10-24 14:35:07.543043: E external/local_xla/xla/stream_executor/cuda/cuda_blas.cc:1452] Unable to register cuBLAS factory: Attempting to register factory for plugin cuBLAS when one has already been registered\n",
      "2024-10-24 14:35:08.271466: I tensorflow/core/platform/cpu_feature_guard.cc:210] This TensorFlow binary is optimized to use available CPU instructions in performance-critical operations.\n",
      "To enable the following instructions: AVX2 FMA, in other operations, rebuild TensorFlow with the appropriate compiler flags.\n",
      "2024-10-24 14:35:11.760713: W tensorflow/compiler/tf2tensorrt/utils/py_utils.cc:38] TF-TRT Warning: Could not find TensorRT\n"
     ]
    }
   ],
   "execution_count": 3
  },
  {
   "metadata": {
    "ExecuteTime": {
     "end_time": "2024-10-24T11:35:14.500267Z",
     "start_time": "2024-10-24T11:35:13.896711Z"
    }
   },
   "cell_type": "code",
   "source": [
    "train_dataset = image_dataset_from_directory(new_base_dir / 'train', image_size=(180, 180), batch_size=32)\n",
    "validation_dataset = image_dataset_from_directory(new_base_dir / 'validation', image_size=(180, 180), batch_size=32)\n",
    "test_dataset = image_dataset_from_directory(new_base_dir / 'test', image_size=(180, 180), batch_size=32)"
   ],
   "id": "cfdc3e45abc606fc",
   "outputs": [
    {
     "name": "stdout",
     "output_type": "stream",
     "text": [
      "Found 2000 files belonging to 2 classes.\n",
      "Found 1000 files belonging to 2 classes.\n",
      "Found 2000 files belonging to 2 classes.\n"
     ]
    }
   ],
   "execution_count": 4
  },
  {
   "metadata": {},
   "cell_type": "markdown",
   "source": "The data has been loaded, resized and packed into batches. We can now proceed to creating the model.",
   "id": "fa24ae2d3dd94c89"
  },
  {
   "metadata": {},
   "cell_type": "markdown",
   "source": [
    "### Creating the model\n",
    "\n",
    "We will build a CNN model using Keras to classify the images of cats and dogs. The model will consist of three convolutional layers, each followed by a max-pooling layer. We will also add a dropout layer to prevent overfitting. The final layer will be a dense layer with a single neuron and a sigmoid activation function to output the probability of the image being a dog."
   ],
   "id": "e8ee89ac4b85f36"
  },
  {
   "metadata": {
    "ExecuteTime": {
     "end_time": "2024-10-24T11:35:14.534756Z",
     "start_time": "2024-10-24T11:35:14.529796Z"
    }
   },
   "cell_type": "code",
   "source": "",
   "id": "ed01739f3a5cb3fe",
   "outputs": [],
   "execution_count": null
  }
 ],
 "metadata": {
  "kernelspec": {
   "display_name": "Python 3",
   "language": "python",
   "name": "python3"
  },
  "language_info": {
   "codemirror_mode": {
    "name": "ipython",
    "version": 2
   },
   "file_extension": ".py",
   "mimetype": "text/x-python",
   "name": "python",
   "nbconvert_exporter": "python",
   "pygments_lexer": "ipython2",
   "version": "2.7.6"
  }
 },
 "nbformat": 4,
 "nbformat_minor": 5
}
