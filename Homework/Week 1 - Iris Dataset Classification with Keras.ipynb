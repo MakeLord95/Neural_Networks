{
 "cells": [
  {
   "metadata": {},
   "cell_type": "markdown",
   "source": "# Week 1: Iris Dataset Classification with Keras",
   "id": "df271f5d51108e38"
  },
  {
   "metadata": {},
   "cell_type": "markdown",
   "source": [
    "### 1. Introduction & Objectives\n",
    "\n",
    "In this notebook, we will use the Iris dataset to classify the species of iris flowers. \n",
    "\n",
    "Our objective for this notebook is to build a multiclass classifier with Keras, that takes the four numerical features of the iris samples as inputs and outputs the prediction for the species of the iris flowers. The classifier will include the input layer, one hidden layer, and the output layer. We will use the softmax activation function in the output layer and the categorical crossentropy loss function to train the model.\n"
   ],
   "id": "6fd3c9db8290af22"
  },
  {
   "metadata": {},
   "cell_type": "markdown",
   "source": [
    "In this project, we will use the Iris dataset, which is available as a raw data file from the [UCI Machine Learning Repository](https://archive.ics.uci.edu/ml/machine-learning-databases/iris/iris.data). This dataset consists of 150 samples of iris flowers, each with four numerical features: **sepal length**, **sepal width**, **petal length**, and **petal width**. The target label specifies the **species** of each iris flower.\n",
    "\n",
    "For model training and evaluation, we will divide the dataset as follows:\n",
    "\n",
    "- **Training set**: 80% of the total samples (120 samples)\n",
    "- **Validation set**: 10% of the training samples (12 samples from the training data)\n",
    "- **Test set**: 20% of the total samples (30 samples)\n",
    "\n",
    "To ensure an even distribution across the training, validation, and test sets, we will shuffle the data randomly before splitting. This setup provides sufficient data for training and allows us to evaluate the model's performance on separate validation and test sets."
   ],
   "id": "86cc0375fa2447f8"
  },
  {
   "metadata": {},
   "cell_type": "markdown",
   "source": [
    "#### 2.1 Importing Required Libraries and Loading the Dataset\n",
    "\n",
    "First, we'll suppress TensorFlow warnings to keep the output clean and explicitly set the Keras backend to TensorFlow for consistency. Optionally, you can disable GPU usage by uncommenting the line that sets `CUDA_VISIBLE_DEVICES` to -1, which forces TensorFlow to run computations on the CPU."
   ],
   "id": "f70b624096d25d4c"
  },
  {
   "metadata": {
    "ExecuteTime": {
     "end_time": "2024-10-27T13:47:21.104664Z",
     "start_time": "2024-10-27T13:47:21.100724Z"
    }
   },
   "cell_type": "code",
   "source": [
    "# Disabling the tensoflow warnings and setting the keras backend to tensorflow\n",
    "import os\n",
    "\n",
    "os.environ['TF_CPP_MIN_LOG_LEVEL'] = '3'\n",
    "os.environ['KERAS_BACKEND'] = 'tensorflow'\n",
    "\n",
    "# Optional line to disable GPU usage for this notebook\n",
    "# os.environ['CUDA_VISIBLE_DEVICES'] = '-1'"
   ],
   "id": "95dc0306fb9710cc",
   "outputs": [],
   "execution_count": 1
  },
  {
   "metadata": {},
   "cell_type": "markdown",
   "source": "Next, we'll import the necessary libraries for data manipulation, numerical operations, and model building.",
   "id": "880b557f07f68c50"
  },
  {
   "metadata": {
    "ExecuteTime": {
     "end_time": "2024-10-27T14:39:44.150600Z",
     "start_time": "2024-10-27T14:39:43.635041Z"
    }
   },
   "cell_type": "code",
   "source": [
    "# Importing the required libraries\n",
    "import pandas as pd\n",
    "import numpy as np\n",
    "from keras import Input, Model\n",
    "from keras.src.layers import Dense\n",
    "from keras.src.callbacks import ModelCheckpoint\n",
    "import matplotlib.pyplot as plt"
   ],
   "id": "a4c390843d63ffe3",
   "outputs": [],
   "execution_count": 13
  },
  {
   "metadata": {},
   "cell_type": "markdown",
   "source": "To load the Iris dataset, we'll use `pandas` to read the data directly from the UCI Machine Learning Repository. We'll assign column names to identify the features: sepal length, sepal width, petal length, petal width, and the species label.",
   "id": "2effc055a6455e70"
  },
  {
   "metadata": {
    "ExecuteTime": {
     "end_time": "2024-10-27T13:47:36.607027Z",
     "start_time": "2024-10-27T13:47:35.205919Z"
    }
   },
   "cell_type": "code",
   "source": [
    "# Loading the dataset\n",
    "url = 'https://archive.ics.uci.edu/ml/machine-learning-databases/iris/iris.data'\n",
    "column_names = ['sepal_length', 'sepal_width', 'petal_length', 'petal_width', 'species']\n",
    "dataset = pd.read_csv(url, names=column_names)"
   ],
   "id": "a52af18d0df71363",
   "outputs": [],
   "execution_count": 3
  },
  {
   "metadata": {},
   "cell_type": "markdown",
   "source": "The dataset has been successfully loaded into a DataFrame. Let's take a look at the first few rows to understand the structure of the data.",
   "id": "fb79d961fa63e74a"
  },
  {
   "metadata": {
    "ExecuteTime": {
     "end_time": "2024-10-27T13:47:46.861729Z",
     "start_time": "2024-10-27T13:47:46.843428Z"
    }
   },
   "cell_type": "code",
   "source": [
    "# Displaying the first few rows of the dataset\n",
    "dataset.head()"
   ],
   "id": "43c064466a60e2c8",
   "outputs": [
    {
     "data": {
      "text/plain": [
       "   sepal_length  sepal_width  petal_length  petal_width      species\n",
       "0           5.1          3.5           1.4          0.2  Iris-setosa\n",
       "1           4.9          3.0           1.4          0.2  Iris-setosa\n",
       "2           4.7          3.2           1.3          0.2  Iris-setosa\n",
       "3           4.6          3.1           1.5          0.2  Iris-setosa\n",
       "4           5.0          3.6           1.4          0.2  Iris-setosa"
      ],
      "text/html": [
       "<div>\n",
       "<style scoped>\n",
       "    .dataframe tbody tr th:only-of-type {\n",
       "        vertical-align: middle;\n",
       "    }\n",
       "\n",
       "    .dataframe tbody tr th {\n",
       "        vertical-align: top;\n",
       "    }\n",
       "\n",
       "    .dataframe thead th {\n",
       "        text-align: right;\n",
       "    }\n",
       "</style>\n",
       "<table border=\"1\" class=\"dataframe\">\n",
       "  <thead>\n",
       "    <tr style=\"text-align: right;\">\n",
       "      <th></th>\n",
       "      <th>sepal_length</th>\n",
       "      <th>sepal_width</th>\n",
       "      <th>petal_length</th>\n",
       "      <th>petal_width</th>\n",
       "      <th>species</th>\n",
       "    </tr>\n",
       "  </thead>\n",
       "  <tbody>\n",
       "    <tr>\n",
       "      <th>0</th>\n",
       "      <td>5.1</td>\n",
       "      <td>3.5</td>\n",
       "      <td>1.4</td>\n",
       "      <td>0.2</td>\n",
       "      <td>Iris-setosa</td>\n",
       "    </tr>\n",
       "    <tr>\n",
       "      <th>1</th>\n",
       "      <td>4.9</td>\n",
       "      <td>3.0</td>\n",
       "      <td>1.4</td>\n",
       "      <td>0.2</td>\n",
       "      <td>Iris-setosa</td>\n",
       "    </tr>\n",
       "    <tr>\n",
       "      <th>2</th>\n",
       "      <td>4.7</td>\n",
       "      <td>3.2</td>\n",
       "      <td>1.3</td>\n",
       "      <td>0.2</td>\n",
       "      <td>Iris-setosa</td>\n",
       "    </tr>\n",
       "    <tr>\n",
       "      <th>3</th>\n",
       "      <td>4.6</td>\n",
       "      <td>3.1</td>\n",
       "      <td>1.5</td>\n",
       "      <td>0.2</td>\n",
       "      <td>Iris-setosa</td>\n",
       "    </tr>\n",
       "    <tr>\n",
       "      <th>4</th>\n",
       "      <td>5.0</td>\n",
       "      <td>3.6</td>\n",
       "      <td>1.4</td>\n",
       "      <td>0.2</td>\n",
       "      <td>Iris-setosa</td>\n",
       "    </tr>\n",
       "  </tbody>\n",
       "</table>\n",
       "</div>"
      ]
     },
     "execution_count": 4,
     "metadata": {},
     "output_type": "execute_result"
    }
   ],
   "execution_count": 4
  },
  {
   "metadata": {},
   "cell_type": "markdown",
   "source": "The dataset contains five columns: **sepal_length**, **sepal_width**, **petal_length**, **petal_width**, and **species**. The **species** column represents the target label for each sample, indicating the species of the iris flower. We can move onto the next step of preprocessing the data for training the model.",
   "id": "7ea9d9223c976492"
  },
  {
   "metadata": {},
   "cell_type": "markdown",
   "source": [
    "#### 2.2 Preprocessing the Data\n",
    "\n",
    "Before training the model, we need to preprocess the data to ensure that it is suitable for training. In this step, we will perform the following preprocessing steps:\n",
    "\n",
    "    Randomly shuffle the data to ensure an even distribution across the training, validation, and test sets.\n",
    "    Split the features and target labels into separate variables.\n",
    "    One-hot encode the target labels to convert them into a binary matrix representation.\n",
    "    Split the data into training, validation, and test sets.\n",
    "    \n",
    "To shuffle the data, we will use `random.shuffle()` from the `numpy` library. This function will shuffle the indices of the samples in the dataset, allowing us to split the data randomly."
   ],
   "id": "12b43f4abf8a97af"
  },
  {
   "metadata": {
    "ExecuteTime": {
     "end_time": "2024-10-27T13:47:52.525818Z",
     "start_time": "2024-10-27T13:47:52.514647Z"
    }
   },
   "cell_type": "code",
   "source": [
    "# Shuffling the data\n",
    "np.random.seed(0)\n",
    "dataset = dataset.sample(frac=1).reset_index(drop=True)\n",
    "\n",
    "dataset.head()"
   ],
   "id": "faac30de1e3cb766",
   "outputs": [
    {
     "data": {
      "text/plain": [
       "   sepal_length  sepal_width  petal_length  petal_width          species\n",
       "0           5.8          2.8           5.1          2.4   Iris-virginica\n",
       "1           6.0          2.2           4.0          1.0  Iris-versicolor\n",
       "2           5.5          4.2           1.4          0.2      Iris-setosa\n",
       "3           7.3          2.9           6.3          1.8   Iris-virginica\n",
       "4           5.0          3.4           1.5          0.2      Iris-setosa"
      ],
      "text/html": [
       "<div>\n",
       "<style scoped>\n",
       "    .dataframe tbody tr th:only-of-type {\n",
       "        vertical-align: middle;\n",
       "    }\n",
       "\n",
       "    .dataframe tbody tr th {\n",
       "        vertical-align: top;\n",
       "    }\n",
       "\n",
       "    .dataframe thead th {\n",
       "        text-align: right;\n",
       "    }\n",
       "</style>\n",
       "<table border=\"1\" class=\"dataframe\">\n",
       "  <thead>\n",
       "    <tr style=\"text-align: right;\">\n",
       "      <th></th>\n",
       "      <th>sepal_length</th>\n",
       "      <th>sepal_width</th>\n",
       "      <th>petal_length</th>\n",
       "      <th>petal_width</th>\n",
       "      <th>species</th>\n",
       "    </tr>\n",
       "  </thead>\n",
       "  <tbody>\n",
       "    <tr>\n",
       "      <th>0</th>\n",
       "      <td>5.8</td>\n",
       "      <td>2.8</td>\n",
       "      <td>5.1</td>\n",
       "      <td>2.4</td>\n",
       "      <td>Iris-virginica</td>\n",
       "    </tr>\n",
       "    <tr>\n",
       "      <th>1</th>\n",
       "      <td>6.0</td>\n",
       "      <td>2.2</td>\n",
       "      <td>4.0</td>\n",
       "      <td>1.0</td>\n",
       "      <td>Iris-versicolor</td>\n",
       "    </tr>\n",
       "    <tr>\n",
       "      <th>2</th>\n",
       "      <td>5.5</td>\n",
       "      <td>4.2</td>\n",
       "      <td>1.4</td>\n",
       "      <td>0.2</td>\n",
       "      <td>Iris-setosa</td>\n",
       "    </tr>\n",
       "    <tr>\n",
       "      <th>3</th>\n",
       "      <td>7.3</td>\n",
       "      <td>2.9</td>\n",
       "      <td>6.3</td>\n",
       "      <td>1.8</td>\n",
       "      <td>Iris-virginica</td>\n",
       "    </tr>\n",
       "    <tr>\n",
       "      <th>4</th>\n",
       "      <td>5.0</td>\n",
       "      <td>3.4</td>\n",
       "      <td>1.5</td>\n",
       "      <td>0.2</td>\n",
       "      <td>Iris-setosa</td>\n",
       "    </tr>\n",
       "  </tbody>\n",
       "</table>\n",
       "</div>"
      ]
     },
     "execution_count": 5,
     "metadata": {},
     "output_type": "execute_result"
    }
   ],
   "execution_count": 5
  },
  {
   "metadata": {},
   "cell_type": "markdown",
   "source": "The data has been successfully shuffled. Next, we will split the features and target labels into separate variables and one-hot encode the target labels.",
   "id": "db78207d2d698c06"
  },
  {
   "metadata": {
    "ExecuteTime": {
     "end_time": "2024-10-27T13:48:03.038754Z",
     "start_time": "2024-10-27T13:48:03.031754Z"
    }
   },
   "cell_type": "code",
   "source": [
    "# Split the features and target labels\n",
    "features = dataset[['sepal_length', 'sepal_width', 'petal_length', 'petal_width']]\n",
    "target = dataset['species']\n",
    "\n",
    "# One-hot encode the target labels\n",
    "target = pd.get_dummies(target).astype(int)"
   ],
   "id": "a2a279224a9a3c19",
   "outputs": [],
   "execution_count": 6
  },
  {
   "metadata": {},
   "cell_type": "markdown",
   "source": "The features have been separated from the target labels, and the target labels have been one-hot encoded. We can now split the data into training and testing sets.",
   "id": "8c24fa7a7cdfc656"
  },
  {
   "metadata": {
    "ExecuteTime": {
     "end_time": "2024-10-27T13:48:10.131145Z",
     "start_time": "2024-10-27T13:48:10.127430Z"
    }
   },
   "cell_type": "code",
   "source": [
    "# Define the split ratio (80% training, 20% testing)\n",
    "split = 0.8\n",
    "\n",
    "# Split the feature labels into training and testing sets\n",
    "split_index = int(split * len(dataset))\n",
    "train_data, test_data = features[:split_index], features[split_index:]\n",
    "\n",
    "# Split the target labels into training and testing sets\n",
    "train_target, test_target = target[:split_index], target[split_index:]"
   ],
   "id": "5b90f23e34cf36aa",
   "outputs": [],
   "execution_count": 7
  },
  {
   "metadata": {},
   "cell_type": "markdown",
   "source": "The data has now been successfully split into training and testing sets. We can check the shape of the training and testing sets to ensure that the data has been split correctly.",
   "id": "8c04ce48426e0e13"
  },
  {
   "metadata": {
    "ExecuteTime": {
     "end_time": "2024-10-27T13:48:14.588782Z",
     "start_time": "2024-10-27T13:48:14.584572Z"
    }
   },
   "cell_type": "code",
   "source": [
    "# Display the shape of the training and testing sets\n",
    "train_data.shape, train_target.shape, test_data.shape, test_target.shape"
   ],
   "id": "840704ffaf0331d",
   "outputs": [
    {
     "data": {
      "text/plain": [
       "((120, 4), (120, 3), (30, 4), (30, 3))"
      ]
     },
     "execution_count": 8,
     "metadata": {},
     "output_type": "execute_result"
    }
   ],
   "execution_count": 8
  },
  {
   "metadata": {},
   "cell_type": "markdown",
   "source": "The training and testing sets contain 120 and 30 samples, respectively. We can now proceed to creating the model and fitting it to the training data.",
   "id": "555254bbada63a4f"
  },
  {
   "metadata": {},
   "cell_type": "markdown",
   "source": [
    "### 3. Creating the Model\n",
    "\n",
    "To build the neural network model, we will use the Keras functional API. The model will consist of the following layers:\n",
    "    \n",
    "        Input layer: Accepts the four numerical features of the iris samples.\n",
    "        Hidden layer: Contains 8 neurons and uses the ReLU activation function.\n",
    "        Output layer: Contains 3 neurons (one for each species) and uses the softmax activation function."
   ],
   "id": "16b33787b5680ee7"
  },
  {
   "metadata": {
    "ExecuteTime": {
     "end_time": "2024-10-27T13:48:25.571716Z",
     "start_time": "2024-10-27T13:48:23.506627Z"
    }
   },
   "cell_type": "code",
   "source": [
    "# Define the input layer\n",
    "inputs = Input(shape=(4,), name='input')\n",
    "\n",
    "# Define the hidden layer\n",
    "hidden = Dense(8, activation='relu', name='hidden')(inputs)\n",
    "\n",
    "# Define the output layer\n",
    "outputs = Dense(3, activation='softmax', name='output')(hidden)\n",
    "\n",
    "# Create the model\n",
    "model = Model(inputs=inputs, outputs=outputs)\n",
    "\n",
    "# Display the model summary\n",
    "model.summary()"
   ],
   "id": "51df19deae55354c",
   "outputs": [
    {
     "name": "stderr",
     "output_type": "stream",
     "text": [
      "WARNING: All log messages before absl::InitializeLog() is called are written to STDERR\n",
      "I0000 00:00:1730036903.950779     585 cuda_executor.cc:1001] could not open file to read NUMA node: /sys/bus/pci/devices/0000:09:00.0/numa_node\n",
      "Your kernel may have been built without NUMA support.\n",
      "I0000 00:00:1730036904.171313     585 cuda_executor.cc:1001] could not open file to read NUMA node: /sys/bus/pci/devices/0000:09:00.0/numa_node\n",
      "Your kernel may have been built without NUMA support.\n",
      "I0000 00:00:1730036904.171426     585 cuda_executor.cc:1001] could not open file to read NUMA node: /sys/bus/pci/devices/0000:09:00.0/numa_node\n",
      "Your kernel may have been built without NUMA support.\n",
      "I0000 00:00:1730036904.223203     585 cuda_executor.cc:1001] could not open file to read NUMA node: /sys/bus/pci/devices/0000:09:00.0/numa_node\n",
      "Your kernel may have been built without NUMA support.\n",
      "I0000 00:00:1730036904.223406     585 cuda_executor.cc:1001] could not open file to read NUMA node: /sys/bus/pci/devices/0000:09:00.0/numa_node\n",
      "Your kernel may have been built without NUMA support.\n",
      "I0000 00:00:1730036904.223454     585 cuda_executor.cc:1001] could not open file to read NUMA node: /sys/bus/pci/devices/0000:09:00.0/numa_node\n",
      "Your kernel may have been built without NUMA support.\n",
      "I0000 00:00:1730036904.470876     585 cuda_executor.cc:1001] could not open file to read NUMA node: /sys/bus/pci/devices/0000:09:00.0/numa_node\n",
      "Your kernel may have been built without NUMA support.\n",
      "I0000 00:00:1730036904.470964     585 cuda_executor.cc:1001] could not open file to read NUMA node: /sys/bus/pci/devices/0000:09:00.0/numa_node\n",
      "Your kernel may have been built without NUMA support.\n",
      "I0000 00:00:1730036904.471015     585 cuda_executor.cc:1001] could not open file to read NUMA node: /sys/bus/pci/devices/0000:09:00.0/numa_node\n",
      "Your kernel may have been built without NUMA support.\n"
     ]
    },
    {
     "data": {
      "text/plain": [
       "\u001B[1mModel: \"functional\"\u001B[0m\n"
      ],
      "text/html": [
       "<pre style=\"white-space:pre;overflow-x:auto;line-height:normal;font-family:Menlo,'DejaVu Sans Mono',consolas,'Courier New',monospace\"><span style=\"font-weight: bold\">Model: \"functional\"</span>\n",
       "</pre>\n"
      ]
     },
     "metadata": {},
     "output_type": "display_data"
    },
    {
     "data": {
      "text/plain": [
       "┏━━━━━━━━━━━━━━━━━━━━━━━━━━━━━━━━━┳━━━━━━━━━━━━━━━━━━━━━━━━┳━━━━━━━━━━━━━━━┓\n",
       "┃\u001B[1m \u001B[0m\u001B[1mLayer (type)                   \u001B[0m\u001B[1m \u001B[0m┃\u001B[1m \u001B[0m\u001B[1mOutput Shape          \u001B[0m\u001B[1m \u001B[0m┃\u001B[1m \u001B[0m\u001B[1m      Param #\u001B[0m\u001B[1m \u001B[0m┃\n",
       "┡━━━━━━━━━━━━━━━━━━━━━━━━━━━━━━━━━╇━━━━━━━━━━━━━━━━━━━━━━━━╇━━━━━━━━━━━━━━━┩\n",
       "│ input (\u001B[38;5;33mInputLayer\u001B[0m)              │ (\u001B[38;5;45mNone\u001B[0m, \u001B[38;5;34m4\u001B[0m)              │             \u001B[38;5;34m0\u001B[0m │\n",
       "├─────────────────────────────────┼────────────────────────┼───────────────┤\n",
       "│ hidden (\u001B[38;5;33mDense\u001B[0m)                  │ (\u001B[38;5;45mNone\u001B[0m, \u001B[38;5;34m8\u001B[0m)              │            \u001B[38;5;34m40\u001B[0m │\n",
       "├─────────────────────────────────┼────────────────────────┼───────────────┤\n",
       "│ output (\u001B[38;5;33mDense\u001B[0m)                  │ (\u001B[38;5;45mNone\u001B[0m, \u001B[38;5;34m3\u001B[0m)              │            \u001B[38;5;34m27\u001B[0m │\n",
       "└─────────────────────────────────┴────────────────────────┴───────────────┘\n"
      ],
      "text/html": [
       "<pre style=\"white-space:pre;overflow-x:auto;line-height:normal;font-family:Menlo,'DejaVu Sans Mono',consolas,'Courier New',monospace\">┏━━━━━━━━━━━━━━━━━━━━━━━━━━━━━━━━━┳━━━━━━━━━━━━━━━━━━━━━━━━┳━━━━━━━━━━━━━━━┓\n",
       "┃<span style=\"font-weight: bold\"> Layer (type)                    </span>┃<span style=\"font-weight: bold\"> Output Shape           </span>┃<span style=\"font-weight: bold\">       Param # </span>┃\n",
       "┡━━━━━━━━━━━━━━━━━━━━━━━━━━━━━━━━━╇━━━━━━━━━━━━━━━━━━━━━━━━╇━━━━━━━━━━━━━━━┩\n",
       "│ input (<span style=\"color: #0087ff; text-decoration-color: #0087ff\">InputLayer</span>)              │ (<span style=\"color: #00d7ff; text-decoration-color: #00d7ff\">None</span>, <span style=\"color: #00af00; text-decoration-color: #00af00\">4</span>)              │             <span style=\"color: #00af00; text-decoration-color: #00af00\">0</span> │\n",
       "├─────────────────────────────────┼────────────────────────┼───────────────┤\n",
       "│ hidden (<span style=\"color: #0087ff; text-decoration-color: #0087ff\">Dense</span>)                  │ (<span style=\"color: #00d7ff; text-decoration-color: #00d7ff\">None</span>, <span style=\"color: #00af00; text-decoration-color: #00af00\">8</span>)              │            <span style=\"color: #00af00; text-decoration-color: #00af00\">40</span> │\n",
       "├─────────────────────────────────┼────────────────────────┼───────────────┤\n",
       "│ output (<span style=\"color: #0087ff; text-decoration-color: #0087ff\">Dense</span>)                  │ (<span style=\"color: #00d7ff; text-decoration-color: #00d7ff\">None</span>, <span style=\"color: #00af00; text-decoration-color: #00af00\">3</span>)              │            <span style=\"color: #00af00; text-decoration-color: #00af00\">27</span> │\n",
       "└─────────────────────────────────┴────────────────────────┴───────────────┘\n",
       "</pre>\n"
      ]
     },
     "metadata": {},
     "output_type": "display_data"
    },
    {
     "data": {
      "text/plain": [
       "\u001B[1m Total params: \u001B[0m\u001B[38;5;34m67\u001B[0m (268.00 B)\n"
      ],
      "text/html": [
       "<pre style=\"white-space:pre;overflow-x:auto;line-height:normal;font-family:Menlo,'DejaVu Sans Mono',consolas,'Courier New',monospace\"><span style=\"font-weight: bold\"> Total params: </span><span style=\"color: #00af00; text-decoration-color: #00af00\">67</span> (268.00 B)\n",
       "</pre>\n"
      ]
     },
     "metadata": {},
     "output_type": "display_data"
    },
    {
     "data": {
      "text/plain": [
       "\u001B[1m Trainable params: \u001B[0m\u001B[38;5;34m67\u001B[0m (268.00 B)\n"
      ],
      "text/html": [
       "<pre style=\"white-space:pre;overflow-x:auto;line-height:normal;font-family:Menlo,'DejaVu Sans Mono',consolas,'Courier New',monospace\"><span style=\"font-weight: bold\"> Trainable params: </span><span style=\"color: #00af00; text-decoration-color: #00af00\">67</span> (268.00 B)\n",
       "</pre>\n"
      ]
     },
     "metadata": {},
     "output_type": "display_data"
    },
    {
     "data": {
      "text/plain": [
       "\u001B[1m Non-trainable params: \u001B[0m\u001B[38;5;34m0\u001B[0m (0.00 B)\n"
      ],
      "text/html": [
       "<pre style=\"white-space:pre;overflow-x:auto;line-height:normal;font-family:Menlo,'DejaVu Sans Mono',consolas,'Courier New',monospace\"><span style=\"font-weight: bold\"> Non-trainable params: </span><span style=\"color: #00af00; text-decoration-color: #00af00\">0</span> (0.00 B)\n",
       "</pre>\n"
      ]
     },
     "metadata": {},
     "output_type": "display_data"
    }
   ],
   "execution_count": 9
  },
  {
   "metadata": {},
   "cell_type": "markdown",
   "source": "The model has been successfully created with the input, hidden, and output layers. The model summary provides information about the layers, including the number of parameters in each layer. We can now proceed to compiling and fitting the model to the training data.",
   "id": "7982dab91cb4a7f2"
  },
  {
   "metadata": {},
   "cell_type": "markdown",
   "source": [
    "### 4. Compiling and Fitting the Model\n",
    "\n",
    "Before training the model, we need to compile it by specifying the optimizer, loss function, and evaluation metric. In this case, we will use the Adam optimizer, categorical crossentropy loss function, and accuracy as the evaluation metric. \n",
    "\n",
    "We will implement a callback to save the best model based on the validation loss during training. This callback will help us avoid overfitting by saving the model with the lowest validation loss.\n",
    "\n",
    "During the training, we will also save the best model based on the validation loss using the `ModelCheckpoint` callback."
   ],
   "id": "7f471c3278eb95f9"
  },
  {
   "metadata": {
    "ExecuteTime": {
     "end_time": "2024-10-27T13:50:31.557872Z",
     "start_time": "2024-10-27T13:50:22.454812Z"
    }
   },
   "cell_type": "code",
   "source": [
    "# Compile the model\n",
    "model.compile(optimizer='adam', loss='categorical_crossentropy', metrics=['accuracy'])\n",
    "\n",
    "# Define the ModelCheckpoint callback\n",
    "callbacks = [ModelCheckpoint(filepath='../Models/iris_model.keras', monitor='val_loss', save_best_only=True)]\n",
    "\n",
    "# Fit the model to the training data\n",
    "history = model.fit(train_data, train_target, epochs=100, batch_size=8, validation_split=0.1, callbacks=callbacks)"
   ],
   "id": "b7fc5e38a4864c64",
   "outputs": [
    {
     "name": "stdout",
     "output_type": "stream",
     "text": [
      "Epoch 1/100\n",
      "\u001B[1m14/14\u001B[0m \u001B[32m━━━━━━━━━━━━━━━━━━━━\u001B[0m\u001B[37m\u001B[0m \u001B[1m1s\u001B[0m 39ms/step - accuracy: 0.8584 - loss: 0.3822 - val_accuracy: 0.9167 - val_loss: 0.3711\n",
      "Epoch 2/100\n",
      "\u001B[1m14/14\u001B[0m \u001B[32m━━━━━━━━━━━━━━━━━━━━\u001B[0m\u001B[37m\u001B[0m \u001B[1m0s\u001B[0m 5ms/step - accuracy: 0.8459 - loss: 0.3853 - val_accuracy: 0.9167 - val_loss: 0.3599\n",
      "Epoch 3/100\n",
      "\u001B[1m14/14\u001B[0m \u001B[32m━━━━━━━━━━━━━━━━━━━━\u001B[0m\u001B[37m\u001B[0m \u001B[1m0s\u001B[0m 5ms/step - accuracy: 0.9092 - loss: 0.3559 - val_accuracy: 0.9167 - val_loss: 0.3585\n",
      "Epoch 4/100\n",
      "\u001B[1m14/14\u001B[0m \u001B[32m━━━━━━━━━━━━━━━━━━━━\u001B[0m\u001B[37m\u001B[0m \u001B[1m0s\u001B[0m 5ms/step - accuracy: 0.9276 - loss: 0.3684 - val_accuracy: 1.0000 - val_loss: 0.3469\n",
      "Epoch 5/100\n",
      "\u001B[1m14/14\u001B[0m \u001B[32m━━━━━━━━━━━━━━━━━━━━\u001B[0m\u001B[37m\u001B[0m \u001B[1m-1s\u001B[0m -40449us/step - accuracy: 0.9425 - loss: 0.3137 - val_accuracy: 0.9167 - val_loss: 0.3466\n",
      "Epoch 6/100\n",
      "\u001B[1m14/14\u001B[0m \u001B[32m━━━━━━━━━━━━━━━━━━━━\u001B[0m\u001B[37m\u001B[0m \u001B[1m0s\u001B[0m 5ms/step - accuracy: 0.8889 - loss: 0.3675 - val_accuracy: 1.0000 - val_loss: 0.3385\n",
      "Epoch 7/100\n",
      "\u001B[1m14/14\u001B[0m \u001B[32m━━━━━━━━━━━━━━━━━━━━\u001B[0m\u001B[37m\u001B[0m \u001B[1m0s\u001B[0m 5ms/step - accuracy: 0.9110 - loss: 0.3565 - val_accuracy: 1.0000 - val_loss: 0.3322\n",
      "Epoch 8/100\n",
      "\u001B[1m14/14\u001B[0m \u001B[32m━━━━━━━━━━━━━━━━━━━━\u001B[0m\u001B[37m\u001B[0m \u001B[1m0s\u001B[0m 3ms/step - accuracy: 0.9520 - loss: 0.3318 - val_accuracy: 0.9167 - val_loss: 0.3375\n",
      "Epoch 9/100\n",
      "\u001B[1m14/14\u001B[0m \u001B[32m━━━━━━━━━━━━━━━━━━━━\u001B[0m\u001B[37m\u001B[0m \u001B[1m0s\u001B[0m 5ms/step - accuracy: 0.9322 - loss: 0.3092 - val_accuracy: 0.9167 - val_loss: 0.3276\n",
      "Epoch 10/100\n",
      "\u001B[1m14/14\u001B[0m \u001B[32m━━━━━━━━━━━━━━━━━━━━\u001B[0m\u001B[37m\u001B[0m \u001B[1m0s\u001B[0m 5ms/step - accuracy: 0.9120 - loss: 0.3335 - val_accuracy: 1.0000 - val_loss: 0.3188\n",
      "Epoch 11/100\n",
      "\u001B[1m14/14\u001B[0m \u001B[32m━━━━━━━━━━━━━━━━━━━━\u001B[0m\u001B[37m\u001B[0m \u001B[1m0s\u001B[0m 5ms/step - accuracy: 0.9083 - loss: 0.3460 - val_accuracy: 1.0000 - val_loss: 0.3166\n",
      "Epoch 12/100\n",
      "\u001B[1m14/14\u001B[0m \u001B[32m━━━━━━━━━━━━━━━━━━━━\u001B[0m\u001B[37m\u001B[0m \u001B[1m0s\u001B[0m 5ms/step - accuracy: 0.9305 - loss: 0.3371 - val_accuracy: 1.0000 - val_loss: 0.3105\n",
      "Epoch 13/100\n",
      "\u001B[1m14/14\u001B[0m \u001B[32m━━━━━━━━━━━━━━━━━━━━\u001B[0m\u001B[37m\u001B[0m \u001B[1m0s\u001B[0m 3ms/step - accuracy: 0.9314 - loss: 0.3171 - val_accuracy: 0.9167 - val_loss: 0.3113\n",
      "Epoch 14/100\n",
      "\u001B[1m14/14\u001B[0m \u001B[32m━━━━━━━━━━━━━━━━━━━━\u001B[0m\u001B[37m\u001B[0m \u001B[1m0s\u001B[0m 4ms/step - accuracy: 0.9371 - loss: 0.3443 - val_accuracy: 1.0000 - val_loss: 0.3035\n",
      "Epoch 15/100\n",
      "\u001B[1m14/14\u001B[0m \u001B[32m━━━━━━━━━━━━━━━━━━━━\u001B[0m\u001B[37m\u001B[0m \u001B[1m0s\u001B[0m 5ms/step - accuracy: 0.8967 - loss: 0.3673 - val_accuracy: 1.0000 - val_loss: 0.2973\n",
      "Epoch 16/100\n",
      "\u001B[1m14/14\u001B[0m \u001B[32m━━━━━━━━━━━━━━━━━━━━\u001B[0m\u001B[37m\u001B[0m \u001B[1m0s\u001B[0m 5ms/step - accuracy: 0.9324 - loss: 0.3168 - val_accuracy: 1.0000 - val_loss: 0.2940\n",
      "Epoch 17/100\n",
      "\u001B[1m14/14\u001B[0m \u001B[32m━━━━━━━━━━━━━━━━━━━━\u001B[0m\u001B[37m\u001B[0m \u001B[1m0s\u001B[0m 5ms/step - accuracy: 0.9022 - loss: 0.3320 - val_accuracy: 1.0000 - val_loss: 0.2912\n",
      "Epoch 18/100\n",
      "\u001B[1m14/14\u001B[0m \u001B[32m━━━━━━━━━━━━━━━━━━━━\u001B[0m\u001B[37m\u001B[0m \u001B[1m0s\u001B[0m 5ms/step - accuracy: 0.9346 - loss: 0.2860 - val_accuracy: 1.0000 - val_loss: 0.2847\n",
      "Epoch 19/100\n",
      "\u001B[1m14/14\u001B[0m \u001B[32m━━━━━━━━━━━━━━━━━━━━\u001B[0m\u001B[37m\u001B[0m \u001B[1m0s\u001B[0m 5ms/step - accuracy: 0.9209 - loss: 0.3107 - val_accuracy: 1.0000 - val_loss: 0.2794\n",
      "Epoch 20/100\n",
      "\u001B[1m14/14\u001B[0m \u001B[32m━━━━━━━━━━━━━━━━━━━━\u001B[0m\u001B[37m\u001B[0m \u001B[1m0s\u001B[0m 5ms/step - accuracy: 0.9388 - loss: 0.3001 - val_accuracy: 1.0000 - val_loss: 0.2775\n",
      "Epoch 21/100\n",
      "\u001B[1m14/14\u001B[0m \u001B[32m━━━━━━━━━━━━━━━━━━━━\u001B[0m\u001B[37m\u001B[0m \u001B[1m0s\u001B[0m 5ms/step - accuracy: 0.9368 - loss: 0.3034 - val_accuracy: 1.0000 - val_loss: 0.2724\n",
      "Epoch 22/100\n",
      "\u001B[1m14/14\u001B[0m \u001B[32m━━━━━━━━━━━━━━━━━━━━\u001B[0m\u001B[37m\u001B[0m \u001B[1m0s\u001B[0m 5ms/step - accuracy: 0.9157 - loss: 0.3106 - val_accuracy: 1.0000 - val_loss: 0.2656\n",
      "Epoch 23/100\n",
      "\u001B[1m14/14\u001B[0m \u001B[32m━━━━━━━━━━━━━━━━━━━━\u001B[0m\u001B[37m\u001B[0m \u001B[1m0s\u001B[0m 4ms/step - accuracy: 0.9580 - loss: 0.2697 - val_accuracy: 1.0000 - val_loss: 0.2639\n",
      "Epoch 24/100\n",
      "\u001B[1m14/14\u001B[0m \u001B[32m━━━━━━━━━━━━━━━━━━━━\u001B[0m\u001B[37m\u001B[0m \u001B[1m0s\u001B[0m 5ms/step - accuracy: 0.9457 - loss: 0.2884 - val_accuracy: 1.0000 - val_loss: 0.2583\n",
      "Epoch 25/100\n",
      "\u001B[1m14/14\u001B[0m \u001B[32m━━━━━━━━━━━━━━━━━━━━\u001B[0m\u001B[37m\u001B[0m \u001B[1m0s\u001B[0m 5ms/step - accuracy: 0.9480 - loss: 0.2937 - val_accuracy: 1.0000 - val_loss: 0.2548\n",
      "Epoch 26/100\n",
      "\u001B[1m14/14\u001B[0m \u001B[32m━━━━━━━━━━━━━━━━━━━━\u001B[0m\u001B[37m\u001B[0m \u001B[1m0s\u001B[0m 5ms/step - accuracy: 0.9093 - loss: 0.3387 - val_accuracy: 1.0000 - val_loss: 0.2499\n",
      "Epoch 27/100\n",
      "\u001B[1m14/14\u001B[0m \u001B[32m━━━━━━━━━━━━━━━━━━━━\u001B[0m\u001B[37m\u001B[0m \u001B[1m0s\u001B[0m 3ms/step - accuracy: 0.9528 - loss: 0.2855 - val_accuracy: 1.0000 - val_loss: 0.2514\n",
      "Epoch 28/100\n",
      "\u001B[1m14/14\u001B[0m \u001B[32m━━━━━━━━━━━━━━━━━━━━\u001B[0m\u001B[37m\u001B[0m \u001B[1m0s\u001B[0m 5ms/step - accuracy: 0.9493 - loss: 0.2492 - val_accuracy: 1.0000 - val_loss: 0.2483\n",
      "Epoch 29/100\n",
      "\u001B[1m14/14\u001B[0m \u001B[32m━━━━━━━━━━━━━━━━━━━━\u001B[0m\u001B[37m\u001B[0m \u001B[1m0s\u001B[0m 5ms/step - accuracy: 0.9518 - loss: 0.2935 - val_accuracy: 1.0000 - val_loss: 0.2379\n",
      "Epoch 30/100\n",
      "\u001B[1m14/14\u001B[0m \u001B[32m━━━━━━━━━━━━━━━━━━━━\u001B[0m\u001B[37m\u001B[0m \u001B[1m0s\u001B[0m 5ms/step - accuracy: 0.9466 - loss: 0.2833 - val_accuracy: 1.0000 - val_loss: 0.2348\n",
      "Epoch 31/100\n",
      "\u001B[1m14/14\u001B[0m \u001B[32m━━━━━━━━━━━━━━━━━━━━\u001B[0m\u001B[37m\u001B[0m \u001B[1m0s\u001B[0m 6ms/step - accuracy: 0.9087 - loss: 0.2883 - val_accuracy: 1.0000 - val_loss: 0.2330\n",
      "Epoch 32/100\n",
      "\u001B[1m14/14\u001B[0m \u001B[32m━━━━━━━━━━━━━━━━━━━━\u001B[0m\u001B[37m\u001B[0m \u001B[1m0s\u001B[0m 5ms/step - accuracy: 0.9499 - loss: 0.2738 - val_accuracy: 1.0000 - val_loss: 0.2313\n",
      "Epoch 33/100\n",
      "\u001B[1m14/14\u001B[0m \u001B[32m━━━━━━━━━━━━━━━━━━━━\u001B[0m\u001B[37m\u001B[0m \u001B[1m0s\u001B[0m 5ms/step - accuracy: 0.9471 - loss: 0.2822 - val_accuracy: 1.0000 - val_loss: 0.2271\n",
      "Epoch 34/100\n",
      "\u001B[1m14/14\u001B[0m \u001B[32m━━━━━━━━━━━━━━━━━━━━\u001B[0m\u001B[37m\u001B[0m \u001B[1m0s\u001B[0m 5ms/step - accuracy: 0.9608 - loss: 0.2480 - val_accuracy: 1.0000 - val_loss: 0.2237\n",
      "Epoch 35/100\n",
      "\u001B[1m14/14\u001B[0m \u001B[32m━━━━━━━━━━━━━━━━━━━━\u001B[0m\u001B[37m\u001B[0m \u001B[1m0s\u001B[0m 5ms/step - accuracy: 0.9681 - loss: 0.2702 - val_accuracy: 1.0000 - val_loss: 0.2196\n",
      "Epoch 36/100\n",
      "\u001B[1m14/14\u001B[0m \u001B[32m━━━━━━━━━━━━━━━━━━━━\u001B[0m\u001B[37m\u001B[0m \u001B[1m0s\u001B[0m 5ms/step - accuracy: 0.9317 - loss: 0.2617 - val_accuracy: 1.0000 - val_loss: 0.2164\n",
      "Epoch 37/100\n",
      "\u001B[1m14/14\u001B[0m \u001B[32m━━━━━━━━━━━━━━━━━━━━\u001B[0m\u001B[37m\u001B[0m \u001B[1m0s\u001B[0m 5ms/step - accuracy: 0.9329 - loss: 0.2395 - val_accuracy: 1.0000 - val_loss: 0.2131\n",
      "Epoch 38/100\n",
      "\u001B[1m14/14\u001B[0m \u001B[32m━━━━━━━━━━━━━━━━━━━━\u001B[0m\u001B[37m\u001B[0m \u001B[1m0s\u001B[0m 5ms/step - accuracy: 0.9309 - loss: 0.2592 - val_accuracy: 1.0000 - val_loss: 0.2094\n",
      "Epoch 39/100\n",
      "\u001B[1m14/14\u001B[0m \u001B[32m━━━━━━━━━━━━━━━━━━━━\u001B[0m\u001B[37m\u001B[0m \u001B[1m0s\u001B[0m 6ms/step - accuracy: 0.9526 - loss: 0.2643 - val_accuracy: 1.0000 - val_loss: 0.2071\n",
      "Epoch 40/100\n",
      "\u001B[1m14/14\u001B[0m \u001B[32m━━━━━━━━━━━━━━━━━━━━\u001B[0m\u001B[37m\u001B[0m \u001B[1m0s\u001B[0m 8ms/step - accuracy: 0.9316 - loss: 0.2530 - val_accuracy: 1.0000 - val_loss: 0.2048\n",
      "Epoch 41/100\n",
      "\u001B[1m14/14\u001B[0m \u001B[32m━━━━━━━━━━━━━━━━━━━━\u001B[0m\u001B[37m\u001B[0m \u001B[1m0s\u001B[0m 7ms/step - accuracy: 0.9419 - loss: 0.2633 - val_accuracy: 1.0000 - val_loss: 0.2013\n",
      "Epoch 42/100\n",
      "\u001B[1m14/14\u001B[0m \u001B[32m━━━━━━━━━━━━━━━━━━━━\u001B[0m\u001B[37m\u001B[0m \u001B[1m0s\u001B[0m 6ms/step - accuracy: 0.9476 - loss: 0.2339 - val_accuracy: 1.0000 - val_loss: 0.2010\n",
      "Epoch 43/100\n",
      "\u001B[1m14/14\u001B[0m \u001B[32m━━━━━━━━━━━━━━━━━━━━\u001B[0m\u001B[37m\u001B[0m \u001B[1m0s\u001B[0m 6ms/step - accuracy: 0.9720 - loss: 0.2303 - val_accuracy: 1.0000 - val_loss: 0.1967\n",
      "Epoch 44/100\n",
      "\u001B[1m14/14\u001B[0m \u001B[32m━━━━━━━━━━━━━━━━━━━━\u001B[0m\u001B[37m\u001B[0m \u001B[1m0s\u001B[0m 5ms/step - accuracy: 0.9548 - loss: 0.2239 - val_accuracy: 1.0000 - val_loss: 0.1927\n",
      "Epoch 45/100\n",
      "\u001B[1m14/14\u001B[0m \u001B[32m━━━━━━━━━━━━━━━━━━━━\u001B[0m\u001B[37m\u001B[0m \u001B[1m0s\u001B[0m 4ms/step - accuracy: 0.9477 - loss: 0.2438 - val_accuracy: 1.0000 - val_loss: 0.1922\n",
      "Epoch 46/100\n",
      "\u001B[1m14/14\u001B[0m \u001B[32m━━━━━━━━━━━━━━━━━━━━\u001B[0m\u001B[37m\u001B[0m \u001B[1m0s\u001B[0m 5ms/step - accuracy: 0.9610 - loss: 0.2244 - val_accuracy: 1.0000 - val_loss: 0.1890\n",
      "Epoch 47/100\n",
      "\u001B[1m14/14\u001B[0m \u001B[32m━━━━━━━━━━━━━━━━━━━━\u001B[0m\u001B[37m\u001B[0m \u001B[1m0s\u001B[0m 5ms/step - accuracy: 0.9744 - loss: 0.2237 - val_accuracy: 1.0000 - val_loss: 0.1856\n",
      "Epoch 48/100\n",
      "\u001B[1m14/14\u001B[0m \u001B[32m━━━━━━━━━━━━━━━━━━━━\u001B[0m\u001B[37m\u001B[0m \u001B[1m0s\u001B[0m 5ms/step - accuracy: 0.9344 - loss: 0.2427 - val_accuracy: 1.0000 - val_loss: 0.1827\n",
      "Epoch 49/100\n",
      "\u001B[1m14/14\u001B[0m \u001B[32m━━━━━━━━━━━━━━━━━━━━\u001B[0m\u001B[37m\u001B[0m \u001B[1m0s\u001B[0m 4ms/step - accuracy: 0.9427 - loss: 0.2203 - val_accuracy: 1.0000 - val_loss: 0.1806\n",
      "Epoch 50/100\n",
      "\u001B[1m14/14\u001B[0m \u001B[32m━━━━━━━━━━━━━━━━━━━━\u001B[0m\u001B[37m\u001B[0m \u001B[1m0s\u001B[0m 4ms/step - accuracy: 0.9850 - loss: 0.2028 - val_accuracy: 1.0000 - val_loss: 0.1783\n",
      "Epoch 51/100\n",
      "\u001B[1m14/14\u001B[0m \u001B[32m━━━━━━━━━━━━━━━━━━━━\u001B[0m\u001B[37m\u001B[0m \u001B[1m0s\u001B[0m 5ms/step - accuracy: 0.9662 - loss: 0.2210 - val_accuracy: 1.0000 - val_loss: 0.1761\n",
      "Epoch 52/100\n",
      "\u001B[1m14/14\u001B[0m \u001B[32m━━━━━━━━━━━━━━━━━━━━\u001B[0m\u001B[37m\u001B[0m \u001B[1m0s\u001B[0m 4ms/step - accuracy: 0.9567 - loss: 0.2385 - val_accuracy: 1.0000 - val_loss: 0.1734\n",
      "Epoch 53/100\n",
      "\u001B[1m14/14\u001B[0m \u001B[32m━━━━━━━━━━━━━━━━━━━━\u001B[0m\u001B[37m\u001B[0m \u001B[1m0s\u001B[0m 5ms/step - accuracy: 0.9694 - loss: 0.2105 - val_accuracy: 1.0000 - val_loss: 0.1712\n",
      "Epoch 54/100\n",
      "\u001B[1m14/14\u001B[0m \u001B[32m━━━━━━━━━━━━━━━━━━━━\u001B[0m\u001B[37m\u001B[0m \u001B[1m0s\u001B[0m 5ms/step - accuracy: 0.9686 - loss: 0.2120 - val_accuracy: 1.0000 - val_loss: 0.1691\n",
      "Epoch 55/100\n",
      "\u001B[1m14/14\u001B[0m \u001B[32m━━━━━━━━━━━━━━━━━━━━\u001B[0m\u001B[37m\u001B[0m \u001B[1m0s\u001B[0m 6ms/step - accuracy: 0.9669 - loss: 0.2061 - val_accuracy: 1.0000 - val_loss: 0.1681\n",
      "Epoch 56/100\n",
      "\u001B[1m14/14\u001B[0m \u001B[32m━━━━━━━━━━━━━━━━━━━━\u001B[0m\u001B[37m\u001B[0m \u001B[1m0s\u001B[0m 4ms/step - accuracy: 0.9600 - loss: 0.2283 - val_accuracy: 1.0000 - val_loss: 0.1651\n",
      "Epoch 57/100\n",
      "\u001B[1m14/14\u001B[0m \u001B[32m━━━━━━━━━━━━━━━━━━━━\u001B[0m\u001B[37m\u001B[0m \u001B[1m0s\u001B[0m 6ms/step - accuracy: 0.9334 - loss: 0.2222 - val_accuracy: 1.0000 - val_loss: 0.1633\n",
      "Epoch 58/100\n",
      "\u001B[1m14/14\u001B[0m \u001B[32m━━━━━━━━━━━━━━━━━━━━\u001B[0m\u001B[37m\u001B[0m \u001B[1m0s\u001B[0m 4ms/step - accuracy: 0.9780 - loss: 0.2025 - val_accuracy: 1.0000 - val_loss: 0.1610\n",
      "Epoch 59/100\n",
      "\u001B[1m14/14\u001B[0m \u001B[32m━━━━━━━━━━━━━━━━━━━━\u001B[0m\u001B[37m\u001B[0m \u001B[1m0s\u001B[0m 4ms/step - accuracy: 0.9751 - loss: 0.1926 - val_accuracy: 1.0000 - val_loss: 0.1594\n",
      "Epoch 60/100\n",
      "\u001B[1m14/14\u001B[0m \u001B[32m━━━━━━━━━━━━━━━━━━━━\u001B[0m\u001B[37m\u001B[0m \u001B[1m0s\u001B[0m 4ms/step - accuracy: 0.9648 - loss: 0.1704 - val_accuracy: 1.0000 - val_loss: 0.1575\n",
      "Epoch 61/100\n",
      "\u001B[1m14/14\u001B[0m \u001B[32m━━━━━━━━━━━━━━━━━━━━\u001B[0m\u001B[37m\u001B[0m \u001B[1m0s\u001B[0m 3ms/step - accuracy: 0.9847 - loss: 0.1951 - val_accuracy: 1.0000 - val_loss: 0.1578\n",
      "Epoch 62/100\n",
      "\u001B[1m14/14\u001B[0m \u001B[32m━━━━━━━━━━━━━━━━━━━━\u001B[0m\u001B[37m\u001B[0m \u001B[1m0s\u001B[0m 5ms/step - accuracy: 0.9830 - loss: 0.1938 - val_accuracy: 1.0000 - val_loss: 0.1534\n",
      "Epoch 63/100\n",
      "\u001B[1m14/14\u001B[0m \u001B[32m━━━━━━━━━━━━━━━━━━━━\u001B[0m\u001B[37m\u001B[0m \u001B[1m0s\u001B[0m 5ms/step - accuracy: 0.9667 - loss: 0.1719 - val_accuracy: 1.0000 - val_loss: 0.1519\n",
      "Epoch 64/100\n",
      "\u001B[1m14/14\u001B[0m \u001B[32m━━━━━━━━━━━━━━━━━━━━\u001B[0m\u001B[37m\u001B[0m \u001B[1m0s\u001B[0m 5ms/step - accuracy: 0.9330 - loss: 0.2093 - val_accuracy: 1.0000 - val_loss: 0.1501\n",
      "Epoch 65/100\n",
      "\u001B[1m14/14\u001B[0m \u001B[32m━━━━━━━━━━━━━━━━━━━━\u001B[0m\u001B[37m\u001B[0m \u001B[1m0s\u001B[0m 5ms/step - accuracy: 0.9541 - loss: 0.1946 - val_accuracy: 1.0000 - val_loss: 0.1484\n",
      "Epoch 66/100\n",
      "\u001B[1m14/14\u001B[0m \u001B[32m━━━━━━━━━━━━━━━━━━━━\u001B[0m\u001B[37m\u001B[0m \u001B[1m0s\u001B[0m 5ms/step - accuracy: 0.9724 - loss: 0.1899 - val_accuracy: 1.0000 - val_loss: 0.1465\n",
      "Epoch 67/100\n",
      "\u001B[1m14/14\u001B[0m \u001B[32m━━━━━━━━━━━━━━━━━━━━\u001B[0m\u001B[37m\u001B[0m \u001B[1m0s\u001B[0m 5ms/step - accuracy: 0.9852 - loss: 0.1829 - val_accuracy: 1.0000 - val_loss: 0.1448\n",
      "Epoch 68/100\n",
      "\u001B[1m14/14\u001B[0m \u001B[32m━━━━━━━━━━━━━━━━━━━━\u001B[0m\u001B[37m\u001B[0m \u001B[1m0s\u001B[0m 5ms/step - accuracy: 0.9446 - loss: 0.2071 - val_accuracy: 1.0000 - val_loss: 0.1443\n",
      "Epoch 69/100\n",
      "\u001B[1m14/14\u001B[0m \u001B[32m━━━━━━━━━━━━━━━━━━━━\u001B[0m\u001B[37m\u001B[0m \u001B[1m0s\u001B[0m 5ms/step - accuracy: 0.9647 - loss: 0.1852 - val_accuracy: 1.0000 - val_loss: 0.1416\n",
      "Epoch 70/100\n",
      "\u001B[1m14/14\u001B[0m \u001B[32m━━━━━━━━━━━━━━━━━━━━\u001B[0m\u001B[37m\u001B[0m \u001B[1m0s\u001B[0m 5ms/step - accuracy: 0.9899 - loss: 0.1730 - val_accuracy: 1.0000 - val_loss: 0.1401\n",
      "Epoch 71/100\n",
      "\u001B[1m14/14\u001B[0m \u001B[32m━━━━━━━━━━━━━━━━━━━━\u001B[0m\u001B[37m\u001B[0m \u001B[1m0s\u001B[0m 5ms/step - accuracy: 0.9600 - loss: 0.1843 - val_accuracy: 1.0000 - val_loss: 0.1398\n",
      "Epoch 72/100\n",
      "\u001B[1m14/14\u001B[0m \u001B[32m━━━━━━━━━━━━━━━━━━━━\u001B[0m\u001B[37m\u001B[0m \u001B[1m0s\u001B[0m 5ms/step - accuracy: 0.9368 - loss: 0.1768 - val_accuracy: 1.0000 - val_loss: 0.1375\n",
      "Epoch 73/100\n",
      "\u001B[1m14/14\u001B[0m \u001B[32m━━━━━━━━━━━━━━━━━━━━\u001B[0m\u001B[37m\u001B[0m \u001B[1m0s\u001B[0m 5ms/step - accuracy: 0.9772 - loss: 0.1430 - val_accuracy: 1.0000 - val_loss: 0.1356\n",
      "Epoch 74/100\n",
      "\u001B[1m14/14\u001B[0m \u001B[32m━━━━━━━━━━━━━━━━━━━━\u001B[0m\u001B[37m\u001B[0m \u001B[1m0s\u001B[0m 5ms/step - accuracy: 0.9886 - loss: 0.1491 - val_accuracy: 1.0000 - val_loss: 0.1341\n",
      "Epoch 75/100\n",
      "\u001B[1m14/14\u001B[0m \u001B[32m━━━━━━━━━━━━━━━━━━━━\u001B[0m\u001B[37m\u001B[0m \u001B[1m0s\u001B[0m 3ms/step - accuracy: 0.9484 - loss: 0.1698 - val_accuracy: 1.0000 - val_loss: 0.1352\n",
      "Epoch 76/100\n",
      "\u001B[1m14/14\u001B[0m \u001B[32m━━━━━━━━━━━━━━━━━━━━\u001B[0m\u001B[37m\u001B[0m \u001B[1m0s\u001B[0m 5ms/step - accuracy: 0.9652 - loss: 0.1683 - val_accuracy: 1.0000 - val_loss: 0.1314\n",
      "Epoch 77/100\n",
      "\u001B[1m14/14\u001B[0m \u001B[32m━━━━━━━━━━━━━━━━━━━━\u001B[0m\u001B[37m\u001B[0m \u001B[1m0s\u001B[0m 5ms/step - accuracy: 0.9789 - loss: 0.1542 - val_accuracy: 1.0000 - val_loss: 0.1300\n",
      "Epoch 78/100\n",
      "\u001B[1m14/14\u001B[0m \u001B[32m━━━━━━━━━━━━━━━━━━━━\u001B[0m\u001B[37m\u001B[0m \u001B[1m0s\u001B[0m 5ms/step - accuracy: 0.9827 - loss: 0.1541 - val_accuracy: 1.0000 - val_loss: 0.1291\n",
      "Epoch 79/100\n",
      "\u001B[1m14/14\u001B[0m \u001B[32m━━━━━━━━━━━━━━━━━━━━\u001B[0m\u001B[37m\u001B[0m \u001B[1m0s\u001B[0m 5ms/step - accuracy: 0.9672 - loss: 0.1590 - val_accuracy: 1.0000 - val_loss: 0.1286\n",
      "Epoch 80/100\n",
      "\u001B[1m14/14\u001B[0m \u001B[32m━━━━━━━━━━━━━━━━━━━━\u001B[0m\u001B[37m\u001B[0m \u001B[1m0s\u001B[0m 5ms/step - accuracy: 0.9730 - loss: 0.1551 - val_accuracy: 1.0000 - val_loss: 0.1276\n",
      "Epoch 81/100\n",
      "\u001B[1m14/14\u001B[0m \u001B[32m━━━━━━━━━━━━━━━━━━━━\u001B[0m\u001B[37m\u001B[0m \u001B[1m0s\u001B[0m 5ms/step - accuracy: 0.9724 - loss: 0.1502 - val_accuracy: 1.0000 - val_loss: 0.1253\n",
      "Epoch 82/100\n",
      "\u001B[1m14/14\u001B[0m \u001B[32m━━━━━━━━━━━━━━━━━━━━\u001B[0m\u001B[37m\u001B[0m \u001B[1m0s\u001B[0m 5ms/step - accuracy: 0.9714 - loss: 0.1689 - val_accuracy: 1.0000 - val_loss: 0.1235\n",
      "Epoch 83/100\n",
      "\u001B[1m14/14\u001B[0m \u001B[32m━━━━━━━━━━━━━━━━━━━━\u001B[0m\u001B[37m\u001B[0m \u001B[1m0s\u001B[0m 5ms/step - accuracy: 0.9578 - loss: 0.1640 - val_accuracy: 1.0000 - val_loss: 0.1232\n",
      "Epoch 84/100\n",
      "\u001B[1m14/14\u001B[0m \u001B[32m━━━━━━━━━━━━━━━━━━━━\u001B[0m\u001B[37m\u001B[0m \u001B[1m0s\u001B[0m 5ms/step - accuracy: 0.9646 - loss: 0.1750 - val_accuracy: 1.0000 - val_loss: 0.1215\n",
      "Epoch 85/100\n",
      "\u001B[1m14/14\u001B[0m \u001B[32m━━━━━━━━━━━━━━━━━━━━\u001B[0m\u001B[37m\u001B[0m \u001B[1m0s\u001B[0m 5ms/step - accuracy: 0.9741 - loss: 0.1577 - val_accuracy: 1.0000 - val_loss: 0.1207\n",
      "Epoch 86/100\n",
      "\u001B[1m14/14\u001B[0m \u001B[32m━━━━━━━━━━━━━━━━━━━━\u001B[0m\u001B[37m\u001B[0m \u001B[1m0s\u001B[0m 6ms/step - accuracy: 0.9694 - loss: 0.1577 - val_accuracy: 1.0000 - val_loss: 0.1200\n",
      "Epoch 87/100\n",
      "\u001B[1m14/14\u001B[0m \u001B[32m━━━━━━━━━━━━━━━━━━━━\u001B[0m\u001B[37m\u001B[0m \u001B[1m0s\u001B[0m 4ms/step - accuracy: 0.9657 - loss: 0.1580 - val_accuracy: 1.0000 - val_loss: 0.1211\n",
      "Epoch 88/100\n",
      "\u001B[1m14/14\u001B[0m \u001B[32m━━━━━━━━━━━━━━━━━━━━\u001B[0m\u001B[37m\u001B[0m \u001B[1m0s\u001B[0m 3ms/step - accuracy: 0.9385 - loss: 0.1866 - val_accuracy: 1.0000 - val_loss: 0.1203\n",
      "Epoch 89/100\n",
      "\u001B[1m14/14\u001B[0m \u001B[32m━━━━━━━━━━━━━━━━━━━━\u001B[0m\u001B[37m\u001B[0m \u001B[1m0s\u001B[0m 5ms/step - accuracy: 0.9850 - loss: 0.1532 - val_accuracy: 1.0000 - val_loss: 0.1152\n",
      "Epoch 90/100\n",
      "\u001B[1m14/14\u001B[0m \u001B[32m━━━━━━━━━━━━━━━━━━━━\u001B[0m\u001B[37m\u001B[0m \u001B[1m0s\u001B[0m 3ms/step - accuracy: 0.9580 - loss: 0.1686 - val_accuracy: 1.0000 - val_loss: 0.1173\n",
      "Epoch 91/100\n",
      "\u001B[1m14/14\u001B[0m \u001B[32m━━━━━━━━━━━━━━━━━━━━\u001B[0m\u001B[37m\u001B[0m \u001B[1m0s\u001B[0m 5ms/step - accuracy: 0.9513 - loss: 0.1553 - val_accuracy: 1.0000 - val_loss: 0.1138\n",
      "Epoch 92/100\n",
      "\u001B[1m14/14\u001B[0m \u001B[32m━━━━━━━━━━━━━━━━━━━━\u001B[0m\u001B[37m\u001B[0m \u001B[1m0s\u001B[0m 4ms/step - accuracy: 0.9895 - loss: 0.1368 - val_accuracy: 1.0000 - val_loss: 0.1139\n",
      "Epoch 93/100\n",
      "\u001B[1m14/14\u001B[0m \u001B[32m━━━━━━━━━━━━━━━━━━━━\u001B[0m\u001B[37m\u001B[0m \u001B[1m0s\u001B[0m 4ms/step - accuracy: 0.9494 - loss: 0.1771 - val_accuracy: 1.0000 - val_loss: 0.1144\n",
      "Epoch 94/100\n",
      "\u001B[1m14/14\u001B[0m \u001B[32m━━━━━━━━━━━━━━━━━━━━\u001B[0m\u001B[37m\u001B[0m \u001B[1m0s\u001B[0m 5ms/step - accuracy: 0.9639 - loss: 0.1649 - val_accuracy: 1.0000 - val_loss: 0.1125\n",
      "Epoch 95/100\n",
      "\u001B[1m14/14\u001B[0m \u001B[32m━━━━━━━━━━━━━━━━━━━━\u001B[0m\u001B[37m\u001B[0m \u001B[1m0s\u001B[0m 5ms/step - accuracy: 0.9894 - loss: 0.1239 - val_accuracy: 1.0000 - val_loss: 0.1102\n",
      "Epoch 96/100\n",
      "\u001B[1m14/14\u001B[0m \u001B[32m━━━━━━━━━━━━━━━━━━━━\u001B[0m\u001B[37m\u001B[0m \u001B[1m0s\u001B[0m 4ms/step - accuracy: 0.9755 - loss: 0.1267 - val_accuracy: 1.0000 - val_loss: 0.1145\n",
      "Epoch 97/100\n",
      "\u001B[1m14/14\u001B[0m \u001B[32m━━━━━━━━━━━━━━━━━━━━\u001B[0m\u001B[37m\u001B[0m \u001B[1m0s\u001B[0m 5ms/step - accuracy: 0.9662 - loss: 0.1373 - val_accuracy: 1.0000 - val_loss: 0.1070\n",
      "Epoch 98/100\n",
      "\u001B[1m14/14\u001B[0m \u001B[32m━━━━━━━━━━━━━━━━━━━━\u001B[0m\u001B[37m\u001B[0m \u001B[1m0s\u001B[0m 3ms/step - accuracy: 0.9887 - loss: 0.1214 - val_accuracy: 1.0000 - val_loss: 0.1089\n",
      "Epoch 99/100\n",
      "\u001B[1m14/14\u001B[0m \u001B[32m━━━━━━━━━━━━━━━━━━━━\u001B[0m\u001B[37m\u001B[0m \u001B[1m0s\u001B[0m 3ms/step - accuracy: 0.9751 - loss: 0.1374 - val_accuracy: 1.0000 - val_loss: 0.1097\n",
      "Epoch 100/100\n",
      "\u001B[1m14/14\u001B[0m \u001B[32m━━━━━━━━━━━━━━━━━━━━\u001B[0m\u001B[37m\u001B[0m \u001B[1m0s\u001B[0m 4ms/step - accuracy: 0.9683 - loss: 0.1354 - val_accuracy: 1.0000 - val_loss: 0.1081\n"
     ]
    }
   ],
   "execution_count": 12
  },
  {
   "metadata": {},
   "cell_type": "markdown",
   "source": "",
   "id": "775d3ecfde46d3d7"
  },
  {
   "metadata": {},
   "cell_type": "markdown",
   "source": "The model was compiled with the **Adam optimizer** and **categorical crossentropy loss**, then trained for **100 epochs** with a **batch size of 8**, using **10% of the training data for validation**. Training accuracy improved from **85.8%** to **96.8%**, while validation accuracy reached **100%** early and remained stable. Both training and validation losses showed consistent decreases, indicating effective learning without significant overfitting. The **ModelCheckpoint callback** saved the best model based on the lowest validation loss. Now we can move onto evaluation the model, and displaying training and validation accuracy and loss over epochs.\n",
   "id": "85fc4fb1defc8836"
  },
  {
   "metadata": {},
   "cell_type": "markdown",
   "source": [
    "### 5. Evaluating the Model\n",
    "\n",
    "Now that the model is fitted and trained, we can proceed to evaluate its performance on the test data. We will use the test data to make predictions and calculate the accuracy of the model on unseen data. Additionally, we will visualize the training and validation accuracy and loss over epochs to understand the model's learning process."
   ],
   "id": "ad56a09fca644b5c"
  },
  {
   "metadata": {},
   "cell_type": "markdown",
   "source": [
    "#### 5.1 Visualizing Training and Validation Metrics\n",
    "\n",
    "We will plot the training and validation accuracy and loss over epochs to visualize the model's learning process. This visualization will help us understand how the model's performance changes during training and identify any potential issues such as overfitting or underfitting."
   ],
   "id": "8ae36199acfc2804"
  },
  {
   "metadata": {
    "ExecuteTime": {
     "end_time": "2024-10-27T14:41:39.701063Z",
     "start_time": "2024-10-27T14:41:39.371595Z"
    }
   },
   "cell_type": "code",
   "source": [
    "# Extracting data from history\n",
    "accuracy = history.history[\"accuracy\"]\n",
    "val_accuracy = history.history[\"val_accuracy\"]\n",
    "loss = history.history[\"loss\"]\n",
    "val_loss = history.history[\"val_loss\"]\n",
    "epochs = range(1, len(accuracy) + 1)\n",
    "\n",
    "# Create subplots with 1 row and 2 columns\n",
    "fig, (ax1, ax2) = plt.subplots(1, 2, figsize=(14, 5))\n",
    "\n",
    "# Plot accuracy on the first subplot (left) with blue and orange colors\n",
    "ax1.plot(epochs, accuracy, linestyle=\"-\", label=\"Training accuracy\", markersize=8, linewidth=2, color=\"blue\")\n",
    "ax1.plot(epochs, val_accuracy, linestyle=\"-\", label=\"Validation accuracy\", linewidth=2, color=\"orange\")\n",
    "ax1.set_title(\"Training and Validation Accuracy\")\n",
    "ax1.set_xlabel(\"Epochs\")\n",
    "ax1.set_ylabel(\"Accuracy\")\n",
    "ax1.legend()\n",
    "ax1.grid(True)\n",
    "\n",
    "# Plot loss on the second subplot (right) with blue and orange colors\n",
    "ax2.plot(epochs, loss, linestyle=\"-\", label=\"Training loss\", markersize=8, linewidth=2, color=\"blue\")\n",
    "ax2.plot(epochs, val_loss, linestyle=\"-\", label=\"Validation loss\", linewidth=2, color=\"orange\")\n",
    "ax2.set_title(\"Training and Validation Loss\")\n",
    "ax2.set_xlabel(\"Epochs\")\n",
    "ax2.set_ylabel(\"Loss\")\n",
    "ax2.legend()\n",
    "ax2.grid(True)\n",
    "\n",
    "# Show the plots\n",
    "plt.tight_layout()\n",
    "plt.show()"
   ],
   "id": "b7c510baf7f78d47",
   "outputs": [
    {
     "data": {
      "text/plain": [
       "<Figure size 1400x500 with 2 Axes>"
      ],
      "image/png": "[encoded data removed]"
     },
     "metadata": {},
     "output_type": "display_data"
    }
   ],
   "execution_count": 18
  },
  {
   "metadata": {},
   "cell_type": "markdown",
   "source": [
    "The training and validation accuracy plots indicate that the model achieved steady improvement, reaching **96.8%** accuracy on the training set and **100%** accuracy on the validation set, demonstrating strong generalization. The loss curves show a consistent downward trend throughout the epochs, suggesting that the model effectively minimized errors during training. Overall, the stable performance on both training and validation sets indicates successful learning without signs of overfitting or underfitting.\n",
    "\n",
    "Next, we will evaluate the model's performance on the test data to determine its accuracy on unseen samples."
   ],
   "id": "2fe35a9301664ab0"
  },
  {
   "metadata": {},
   "cell_type": "markdown",
   "source": [
    "#### 5.2 Evaluating the Model on Test Data\n",
    "\n",
    "We will evaluate the model's performance on the test data by making predictions and calculating the accuracy of the model on unseen samples. We will use the test data to make predictions and compare them with the actual target labels to determine the model's accuracy."
   ],
   "id": "c03f4923a7d6cf4e"
  },
  {
   "metadata": {
    "ExecuteTime": {
     "end_time": "2024-10-27T14:44:55.332383Z",
     "start_time": "2024-10-27T14:44:54.669618Z"
    }
   },
   "cell_type": "code",
   "source": [
    "# Evaluate the model on the test data\n",
    "test_loss, test_accuracy = model.evaluate(test_data, test_target)\n",
    "\n",
    "# Display the test accuracy\n",
    "print(f\"Test Accuracy: {test_accuracy * 100:.2f}%\")"
   ],
   "id": "5270cd13fca16305",
   "outputs": [
    {
     "name": "stdout",
     "output_type": "stream",
     "text": [
      "\u001B[1m1/1\u001B[0m \u001B[32m━━━━━━━━━━━━━━━━━━━━\u001B[0m\u001B[37m\u001B[0m \u001B[1m1s\u001B[0m 542ms/step - accuracy: 0.9667 - loss: 0.1195\n",
      "Test Accuracy: 96.67%\n"
     ]
    }
   ],
   "execution_count": 19
  },
  {
   "metadata": {},
   "cell_type": "markdown",
   "source": "The model achieved an accuracy of **96.67%** on the test data, indicating that it performed well on unseen samples. This high accuracy on the test data confirms that the model generalized effectively to new iris samples, demonstrating its robustness and reliability.",
   "id": "a2cd1aa31e06b9ca"
  },
  {
   "metadata": {},
   "cell_type": "markdown",
   "source": [
    "### 6. Summary and Conclusion\n",
    "\n",
    "In this notebook, we built a multiclass classifier with Keras to classify iris flower species based on four numerical features. The Iris dataset was preprocessed, split into training and testing sets, and a neural network model with an input layer, one hidden layer, and an output layer was created. The model was compiled using the Adam optimizer and categorical crossentropy loss function, then trained for 100 epochs.\n",
    "\n",
    "A ModelCheckpoint callback was used during training to save the best model based on validation loss. The model achieved high accuracy, with the validation accuracy reaching **100%** during training. When evaluated on the test set, the model reached an accuracy of **96.67%**, indicating strong performance on unseen data.\n",
    "\n",
    "Plots of training and validation accuracy and loss showed steady improvement over epochs, with no signs of overfitting, demonstrating the model's effective learning and generalization. \n",
    "\n",
    "In conclusion, the neural network successfully classified iris species with high accuracy, validating the model's effectiveness for this classification task. This project highlights the potential of neural networks for classification and sets the stage for future exploration of more complex models and tasks.\n"
   ],
   "id": "8cdd5bf63441d529"
  }
 ],
 "metadata": {
  "kernelspec": {
   "display_name": "Python 3",
   "language": "python",
   "name": "python3"
  },
  "language_info": {
   "codemirror_mode": {
    "name": "ipython",
    "version": 2
   },
   "file_extension": ".py",
   "mimetype": "text/x-python",
   "name": "python",
   "nbconvert_exporter": "python",
   "pygments_lexer": "ipython2",
   "version": "2.7.6"
  }
 },
 "nbformat": 4,
 "nbformat_minor": 5
}
