{
 "cells": [
  {
   "metadata": {},
   "cell_type": "markdown",
   "source": [
    "# MNIST with Keras\n",
    "\n",
    "This example demonstrates how to build a simple neural network model using Keras to classify handwritten digits from the MNIST dataset. We'll create a model with an input layer, a hidden layer with ReLU activation, and an output layer with softmax activation. The model will be compiled with the appropriate loss function, optimizer, and metrics before training on the MNIST dataset."
   ],
   "id": "f8b5cd58d690877b"
  },
  {
   "metadata": {},
   "cell_type": "markdown",
   "source": [
    "### Importing Libraries\n",
    "\n",
    "First we need to import the necessary libraries for building the neural network model. We also need to set the backend to tensorflow and disable the GPU (if available) for this example."
   ],
   "id": "88a186dcfb41fa69"
  },
  {
   "cell_type": "code",
   "id": "initial_id",
   "metadata": {
    "collapsed": true,
    "ExecuteTime": {
     "end_time": "2024-10-21T12:17:47.811499Z",
     "start_time": "2024-10-21T12:17:47.744778Z"
    }
   },
   "source": [
    "import os\n",
    "\n",
    "# Disable GPU\n",
    "os.environ[\"CUDA_VISIBLE_DEVICES\"] = \"-1\"\n",
    "\n",
    "# Set backend to tensorflow\n",
    "os.environ['KERAS_BACKEND'] = 'tensorflow'\n",
    "\n",
    "import keras\n",
    "from keras import layers\n",
    "import numpy as np\n",
    "import matplotlib.pyplot as plt"
   ],
   "outputs": [],
   "execution_count": 21
  },
  {
   "metadata": {},
   "cell_type": "markdown",
   "source": "To check the backend keras is using, we can run the following code:",
   "id": "4b6cb3a1558e8e34"
  },
  {
   "metadata": {
    "ExecuteTime": {
     "end_time": "2024-10-21T12:17:48.017589Z",
     "start_time": "2024-10-21T12:17:47.851266Z"
    }
   },
   "cell_type": "code",
   "source": [
    "from keras import backend as k\n",
    "k.backend()"
   ],
   "id": "e91049811419f9ce",
   "outputs": [
    {
     "data": {
      "text/plain": [
       "'tensorflow'"
      ]
     },
     "execution_count": 22,
     "metadata": {},
     "output_type": "execute_result"
    }
   ],
   "execution_count": 22
  },
  {
   "metadata": {},
   "cell_type": "markdown",
   "source": "As we can see, the backend is set to 'tensorflow'. This means that Keras will use TensorFlow as the backend for tensor operations.",
   "id": "618abb168e690f09"
  },
  {
   "metadata": {},
   "cell_type": "markdown",
   "source": [
    "### Creating the model\n",
    "\n",
    "We'll create a simple neural network model for classifying MNIST digits (0-9). The model will have an input layer, a hidden layer with ReLU activation, and an output layer with softmax activation."
   ],
   "id": "a84542cc5cdd04a6"
  },
  {
   "metadata": {
    "ExecuteTime": {
     "end_time": "2024-10-21T12:17:48.736629Z",
     "start_time": "2024-10-21T12:17:48.065185Z"
    }
   },
   "cell_type": "code",
   "source": [
    "# Create the model\n",
    "inputs = keras.Input(shape=(784,))\n",
    "\n",
    "# Hidden layer with 256 units and ReLU activation function\n",
    "x = layers.Dense(256, activation=\"relu\")(inputs)\n",
    "\n",
    "# Output layer with 10 units and softmax activation function\n",
    "outputs = layers.Dense(10, activation=\"softmax\")(x)\n",
    "\n",
    "# Create the model with the input and output layers and name it \"mnist_model\"\n",
    "model = keras.Model(inputs=inputs, outputs=outputs, name=\"mnist_model\")"
   ],
   "id": "18cd627d63508d2a",
   "outputs": [],
   "execution_count": 23
  },
  {
   "metadata": {},
   "cell_type": "markdown",
   "source": [
    "This code block creates a neural network model with the following layers:\n",
    "\n",
    "    An input layer is created with 784 units (representing 28x28 pixels).\n",
    "    A hidden layer is added with 256 units and a ReLU activation function.\n",
    "    An output layer is created with 10 units (for digits 0-9) and a softmax activation function (outputting probabilities that sum to 1).\n",
    "    The model, named \"mnist_model\", is built using the input and output layers.\n",
    "    \n",
    "    shape=(784,) means that the input is a 1D array with 784 elements."
   ],
   "id": "faca5de2e29e9f8"
  },
  {
   "metadata": {},
   "cell_type": "markdown",
   "source": "We can check the summary of the model with the following code:",
   "id": "ed546e7b5e4e7f69"
  },
  {
   "metadata": {
    "ExecuteTime": {
     "end_time": "2024-10-21T12:17:49.054303Z",
     "start_time": "2024-10-21T12:17:48.761693Z"
    }
   },
   "cell_type": "code",
   "source": [
    "# Display the model summary\n",
    "model.summary()"
   ],
   "id": "fab2065af8f7a6ed",
   "outputs": [
    {
     "data": {
      "text/plain": [
       "\u001B[1mModel: \"mnist_model\"\u001B[0m\n"
      ],
      "text/html": [
       "<pre style=\"white-space:pre;overflow-x:auto;line-height:normal;font-family:Menlo,'DejaVu Sans Mono',consolas,'Courier New',monospace\"><span style=\"font-weight: bold\">Model: \"mnist_model\"</span>\n",
       "</pre>\n"
      ]
     },
     "metadata": {},
     "output_type": "display_data"
    },
    {
     "data": {
      "text/plain": [
       "┏━━━━━━━━━━━━━━━━━━━━━━━━━━━━━━━━━┳━━━━━━━━━━━━━━━━━━━━━━━━┳━━━━━━━━━━━━━━━┓\n",
       "┃\u001B[1m \u001B[0m\u001B[1mLayer (type)                   \u001B[0m\u001B[1m \u001B[0m┃\u001B[1m \u001B[0m\u001B[1mOutput Shape          \u001B[0m\u001B[1m \u001B[0m┃\u001B[1m \u001B[0m\u001B[1m      Param #\u001B[0m\u001B[1m \u001B[0m┃\n",
       "┡━━━━━━━━━━━━━━━━━━━━━━━━━━━━━━━━━╇━━━━━━━━━━━━━━━━━━━━━━━━╇━━━━━━━━━━━━━━━┩\n",
       "│ input_layer_2 (\u001B[38;5;33mInputLayer\u001B[0m)      │ (\u001B[38;5;45mNone\u001B[0m, \u001B[38;5;34m784\u001B[0m)            │             \u001B[38;5;34m0\u001B[0m │\n",
       "├─────────────────────────────────┼────────────────────────┼───────────────┤\n",
       "│ dense_4 (\u001B[38;5;33mDense\u001B[0m)                 │ (\u001B[38;5;45mNone\u001B[0m, \u001B[38;5;34m256\u001B[0m)            │       \u001B[38;5;34m200,960\u001B[0m │\n",
       "├─────────────────────────────────┼────────────────────────┼───────────────┤\n",
       "│ dense_5 (\u001B[38;5;33mDense\u001B[0m)                 │ (\u001B[38;5;45mNone\u001B[0m, \u001B[38;5;34m10\u001B[0m)             │         \u001B[38;5;34m2,570\u001B[0m │\n",
       "└─────────────────────────────────┴────────────────────────┴───────────────┘\n"
      ],
      "text/html": [
       "<pre style=\"white-space:pre;overflow-x:auto;line-height:normal;font-family:Menlo,'DejaVu Sans Mono',consolas,'Courier New',monospace\">┏━━━━━━━━━━━━━━━━━━━━━━━━━━━━━━━━━┳━━━━━━━━━━━━━━━━━━━━━━━━┳━━━━━━━━━━━━━━━┓\n",
       "┃<span style=\"font-weight: bold\"> Layer (type)                    </span>┃<span style=\"font-weight: bold\"> Output Shape           </span>┃<span style=\"font-weight: bold\">       Param # </span>┃\n",
       "┡━━━━━━━━━━━━━━━━━━━━━━━━━━━━━━━━━╇━━━━━━━━━━━━━━━━━━━━━━━━╇━━━━━━━━━━━━━━━┩\n",
       "│ input_layer_2 (<span style=\"color: #0087ff; text-decoration-color: #0087ff\">InputLayer</span>)      │ (<span style=\"color: #00d7ff; text-decoration-color: #00d7ff\">None</span>, <span style=\"color: #00af00; text-decoration-color: #00af00\">784</span>)            │             <span style=\"color: #00af00; text-decoration-color: #00af00\">0</span> │\n",
       "├─────────────────────────────────┼────────────────────────┼───────────────┤\n",
       "│ dense_4 (<span style=\"color: #0087ff; text-decoration-color: #0087ff\">Dense</span>)                 │ (<span style=\"color: #00d7ff; text-decoration-color: #00d7ff\">None</span>, <span style=\"color: #00af00; text-decoration-color: #00af00\">256</span>)            │       <span style=\"color: #00af00; text-decoration-color: #00af00\">200,960</span> │\n",
       "├─────────────────────────────────┼────────────────────────┼───────────────┤\n",
       "│ dense_5 (<span style=\"color: #0087ff; text-decoration-color: #0087ff\">Dense</span>)                 │ (<span style=\"color: #00d7ff; text-decoration-color: #00d7ff\">None</span>, <span style=\"color: #00af00; text-decoration-color: #00af00\">10</span>)             │         <span style=\"color: #00af00; text-decoration-color: #00af00\">2,570</span> │\n",
       "└─────────────────────────────────┴────────────────────────┴───────────────┘\n",
       "</pre>\n"
      ]
     },
     "metadata": {},
     "output_type": "display_data"
    },
    {
     "data": {
      "text/plain": [
       "\u001B[1m Total params: \u001B[0m\u001B[38;5;34m203,530\u001B[0m (795.04 KB)\n"
      ],
      "text/html": [
       "<pre style=\"white-space:pre;overflow-x:auto;line-height:normal;font-family:Menlo,'DejaVu Sans Mono',consolas,'Courier New',monospace\"><span style=\"font-weight: bold\"> Total params: </span><span style=\"color: #00af00; text-decoration-color: #00af00\">203,530</span> (795.04 KB)\n",
       "</pre>\n"
      ]
     },
     "metadata": {},
     "output_type": "display_data"
    },
    {
     "data": {
      "text/plain": [
       "\u001B[1m Trainable params: \u001B[0m\u001B[38;5;34m203,530\u001B[0m (795.04 KB)\n"
      ],
      "text/html": [
       "<pre style=\"white-space:pre;overflow-x:auto;line-height:normal;font-family:Menlo,'DejaVu Sans Mono',consolas,'Courier New',monospace\"><span style=\"font-weight: bold\"> Trainable params: </span><span style=\"color: #00af00; text-decoration-color: #00af00\">203,530</span> (795.04 KB)\n",
       "</pre>\n"
      ]
     },
     "metadata": {},
     "output_type": "display_data"
    },
    {
     "data": {
      "text/plain": [
       "\u001B[1m Non-trainable params: \u001B[0m\u001B[38;5;34m0\u001B[0m (0.00 B)\n"
      ],
      "text/html": [
       "<pre style=\"white-space:pre;overflow-x:auto;line-height:normal;font-family:Menlo,'DejaVu Sans Mono',consolas,'Courier New',monospace\"><span style=\"font-weight: bold\"> Non-trainable params: </span><span style=\"color: #00af00; text-decoration-color: #00af00\">0</span> (0.00 B)\n",
       "</pre>\n"
      ]
     },
     "metadata": {},
     "output_type": "display_data"
    }
   ],
   "execution_count": 24
  },
  {
   "metadata": {},
   "cell_type": "markdown",
   "source": [
    "The model summary provides information about the layers, output shapes, and number of parameters in the model. Here's what each column represents:\n",
    "\n",
    "    - Layer (type): Indicates whether the layer is input, hidden, or output.\n",
    "    - Output Shape: The shape of the output tensor (a multi-dimensional array).\n",
    "    - Param #: Number of parameters (weights) in the layer.\n",
    "\n",
    "The model has a total of 203,530 parameters, which are distributed as follows:\n",
    "\n",
    "    input_layer: 0 parameters\n",
    "    dense: 200,960 parameters (784 inputs × 256 units + 256 bias)\n",
    "    dense_1: 2,570 parameters (256 inputs × 10 units + 10 bias)\n",
    "\n",
    "Parameters consist of weights and biases. Weights are learned by the model to make predictions, while biases adjust those predictions. The number of parameters reflects model complexity: more parameters require more data for training."
   ],
   "id": "2de88f9b6500ba3"
  },
  {
   "metadata": {},
   "cell_type": "markdown",
   "source": [
    "### Loading the MNIST dataset\n",
    "\n",
    "Next, we'll load the MNIST dataset and preprocess the data."
   ],
   "id": "cbc8ef4f894921db"
  },
  {
   "metadata": {
    "ExecuteTime": {
     "end_time": "2024-10-21T12:17:52.132119Z",
     "start_time": "2024-10-21T12:17:49.113053Z"
    }
   },
   "cell_type": "code",
   "source": [
    "# Load the MNIST dataset\n",
    "(x_train, y_train), (x_test, y_test) = keras.datasets.mnist.load_data()\n",
    "\n",
    "# Normalize the pixel values to be between 0 and 1\n",
    "x_train = x_train.reshape(60000, 784).astype(\"float32\") / 255\n",
    "x_test = x_test.reshape(10000, 784).astype(\"float32\") / 255"
   ],
   "id": "566553741953ce29",
   "outputs": [],
   "execution_count": 25
  },
  {
   "metadata": {},
   "cell_type": "markdown",
   "source": [
    "In the above code block we perform the following steps:\n",
    "\n",
    "    - The MNIST dataset is loaded using keras.datasets.mnist.load_data().\n",
    "    - The dataset is split into training (x_train, y_train) and test sets (x_test, y_test), where x contains the images and y contains the labels.\n",
    "    - The pixel values are normalized to the range [0, 1] by dividing by 255.\n",
    "    - The images are reshaped from 28x28 pixels to 784-element vectors to match the model's input shape.\n",
    "    \n",
    "The training set contains 60,000 images, while the test set contains 10,000 images. Each image is a 28x28 grayscale picture of a handwritten digit (0-9). The pixel values are integers ranging from 0 to 255, which are normalized to floating-point values between 0 and 1. The labels are integers ranging from 0 to 9."
   ],
   "id": "da123bd3580d94f8"
  },
  {
   "metadata": {},
   "cell_type": "markdown",
   "source": [
    "### Compiling the model\n",
    "\n",
    "Before training the model, we need to compile it with the appropriate loss function, optimizer, and metrics."
   ],
   "id": "361d26df0fdff906"
  },
  {
   "metadata": {
    "ExecuteTime": {
     "end_time": "2024-10-21T12:17:52.398108Z",
     "start_time": "2024-10-21T12:17:52.162786Z"
    }
   },
   "cell_type": "code",
   "source": [
    "# Display the shape of the training and test sets\n",
    "model.compile(\n",
    "    loss=keras.losses.SparseCategoricalCrossentropy(),\n",
    "    optimizer=keras.optimizers.Adam(),\n",
    "    metrics=[\"accuracy\"],\n",
    ")"
   ],
   "id": "20151e45b80bfb71",
   "outputs": [],
   "execution_count": 26
  },
  {
   "metadata": {},
   "cell_type": "markdown",
   "source": [
    "The model is compiled with the following parameters:\n",
    "    \n",
    "        Loss function: SparseCategoricalCrossentropy (used for integer labels).\n",
    "        Optimizer: Adam (a popular optimization algorithm).\n",
    "        Metrics: Accuracy (the fraction of correctly classified images).\n",
    "        \n",
    "The model is now ready for training on the MNIST dataset."
   ],
   "id": "851ebee628ea7655"
  },
  {
   "metadata": {},
   "cell_type": "markdown",
   "source": [
    "### Training the model\n",
    "\n",
    "We'll train the model on the MNIST dataset using the training set and validate it using the test set."
   ],
   "id": "24bb8d5643945a81"
  },
  {
   "metadata": {
    "ExecuteTime": {
     "end_time": "2024-10-21T12:18:50.974767Z",
     "start_time": "2024-10-21T12:17:52.432224Z"
    }
   },
   "cell_type": "code",
   "source": [
    "# Train the model\n",
    "history = model.fit(x_train, y_train, batch_size=64, epochs=10, validation_split=0.2)"
   ],
   "id": "54c87aca5ca139b1",
   "outputs": [
    {
     "name": "stdout",
     "output_type": "stream",
     "text": [
      "Epoch 1/10\n",
      "\u001B[1m750/750\u001B[0m \u001B[32m━━━━━━━━━━━━━━━━━━━━\u001B[0m\u001B[37m\u001B[0m \u001B[1m9s\u001B[0m 7ms/step - accuracy: 0.8631 - loss: 0.4822 - val_accuracy: 0.9558 - val_loss: 0.1497\n",
      "Epoch 2/10\n",
      "\u001B[1m750/750\u001B[0m \u001B[32m━━━━━━━━━━━━━━━━━━━━\u001B[0m\u001B[37m\u001B[0m \u001B[1m4s\u001B[0m 5ms/step - accuracy: 0.9613 - loss: 0.1336 - val_accuracy: 0.9671 - val_loss: 0.1086\n",
      "Epoch 3/10\n",
      "\u001B[1m750/750\u001B[0m \u001B[32m━━━━━━━━━━━━━━━━━━━━\u001B[0m\u001B[37m\u001B[0m \u001B[1m4s\u001B[0m 5ms/step - accuracy: 0.9757 - loss: 0.0818 - val_accuracy: 0.9703 - val_loss: 0.1005\n",
      "Epoch 4/10\n",
      "\u001B[1m750/750\u001B[0m \u001B[32m━━━━━━━━━━━━━━━━━━━━\u001B[0m\u001B[37m\u001B[0m \u001B[1m4s\u001B[0m 5ms/step - accuracy: 0.9827 - loss: 0.0606 - val_accuracy: 0.9725 - val_loss: 0.0906\n",
      "Epoch 5/10\n",
      "\u001B[1m750/750\u001B[0m \u001B[32m━━━━━━━━━━━━━━━━━━━━\u001B[0m\u001B[37m\u001B[0m \u001B[1m4s\u001B[0m 5ms/step - accuracy: 0.9884 - loss: 0.0433 - val_accuracy: 0.9732 - val_loss: 0.0847\n",
      "Epoch 6/10\n",
      "\u001B[1m750/750\u001B[0m \u001B[32m━━━━━━━━━━━━━━━━━━━━\u001B[0m\u001B[37m\u001B[0m \u001B[1m4s\u001B[0m 5ms/step - accuracy: 0.9910 - loss: 0.0311 - val_accuracy: 0.9740 - val_loss: 0.0877\n",
      "Epoch 7/10\n",
      "\u001B[1m750/750\u001B[0m \u001B[32m━━━━━━━━━━━━━━━━━━━━\u001B[0m\u001B[37m\u001B[0m \u001B[1m4s\u001B[0m 5ms/step - accuracy: 0.9932 - loss: 0.0243 - val_accuracy: 0.9753 - val_loss: 0.0828\n",
      "Epoch 8/10\n",
      "\u001B[1m750/750\u001B[0m \u001B[32m━━━━━━━━━━━━━━━━━━━━\u001B[0m\u001B[37m\u001B[0m \u001B[1m4s\u001B[0m 5ms/step - accuracy: 0.9962 - loss: 0.0163 - val_accuracy: 0.9781 - val_loss: 0.0785\n",
      "Epoch 9/10\n",
      "\u001B[1m750/750\u001B[0m \u001B[32m━━━━━━━━━━━━━━━━━━━━\u001B[0m\u001B[37m\u001B[0m \u001B[1m4s\u001B[0m 5ms/step - accuracy: 0.9970 - loss: 0.0137 - val_accuracy: 0.9769 - val_loss: 0.0824\n",
      "Epoch 10/10\n",
      "\u001B[1m750/750\u001B[0m \u001B[32m━━━━━━━━━━━━━━━━━━━━\u001B[0m\u001B[37m\u001B[0m \u001B[1m4s\u001B[0m 5ms/step - accuracy: 0.9965 - loss: 0.0127 - val_accuracy: 0.9743 - val_loss: 0.0961\n"
     ]
    }
   ],
   "execution_count": 27
  },
  {
   "metadata": {},
   "cell_type": "markdown",
   "source": [
    "Here we train the model using the following parameters:\n",
    "\n",
    "    - Training data: x_train (images) and y_train (labels).\n",
    "    - Batch size: 64 (number of samples per gradient update).\n",
    "    - Epochs: 10 (number of passes through the training data).\n",
    "    - Validation split: 0.2 (20% of the training data used for validation).\n",
    "    \n",
    "The training process involves adjusting the model's weights and biases to minimize the loss function. The loss function measures the difference between predicted and actual labels. The optimizer updates the model's parameters based on the loss function's gradient. The accuracy metric tracks the model's performance on the training and validation sets."
   ],
   "id": "1560f02e461cda61"
  },
  {
   "metadata": {},
   "cell_type": "markdown",
   "source": [
    "### Evaluating the model\n",
    "\n",
    "After training the model, we can evaluate its performance on the test set."
   ],
   "id": "aa611f1228139731"
  },
  {
   "metadata": {
    "ExecuteTime": {
     "end_time": "2024-10-21T12:18:52.122542Z",
     "start_time": "2024-10-21T12:18:51.048428Z"
    }
   },
   "cell_type": "code",
   "source": [
    "# Evaluate the model on the test set\n",
    "test_scores = model.evaluate(x_test, y_test, verbose=2)\n",
    "\n",
    "# Display the test loss and accuracy\n",
    "print(f\"Test loss: {test_scores[0] * 100:.4f}%\")\n",
    "print(f\"Test accuracy: {test_scores[1] * 100:.4f}%\")"
   ],
   "id": "17511572dc2be415",
   "outputs": [
    {
     "name": "stdout",
     "output_type": "stream",
     "text": [
      "313/313 - 0s - 2ms/step - accuracy: 0.9746 - loss: 0.0855\n",
      "Test loss: 8.5505%\n",
      "Test accuracy: 97.4600%\n"
     ]
    }
   ],
   "execution_count": 28
  },
  {
   "metadata": {},
   "cell_type": "markdown",
   "source": [
    "The model is evaluated on the test set using the evaluate method, which returns the test loss and accuracy. The test loss is the average loss over all test samples, while the test accuracy is the fraction of correctly classified images.\n",
    "\n",
    "The loss and accuracy on the test set provide an estimate of the model's performance on unseen data. A high test accuracy indicates that the model generalizes well to new examples.\n",
    "\n",
    "A loss of 8.6% and accuracy of 97.5% on the test set suggest that the model performs well on classifying MNIST digits."
   ],
   "id": "c98cb1ff63d416f9"
  },
  {
   "metadata": {
    "ExecuteTime": {
     "end_time": "2024-10-21T12:25:48.399662Z",
     "start_time": "2024-10-21T12:25:39.426008Z"
    }
   },
   "cell_type": "code",
   "source": [
    "x = x_test\n",
    "y = model(x)\n",
    "start = 2000\n",
    "\n",
    "# Set number of rows and columns\n",
    "rows = 4 \n",
    "cols = 3\n",
    "\n",
    "# Create a figure to hold all subplots\n",
    "plt.figure(figsize=(12, rows * 4))\n",
    "\n",
    "for k in range(rows * cols):\n",
    "    # Image plot (left)\n",
    "    plt.subplot(rows, cols * 2, 2 * k + 1)\n",
    "    plt.imshow(x[start + k].reshape((28, 28)), cmap='gray')\n",
    "    plt.axis('off')  # Remove axis for cleaner view\n",
    "\n",
    "    # Bar plot (right)\n",
    "    plt.subplot(rows, cols * 2, 2 * k + 2)\n",
    "    ind = np.arange(0, 10)\n",
    "    plt.bar(ind, y[start + k].numpy().flatten())\n",
    "    plt.xticks(range(10))\n",
    "\n",
    "plt.tight_layout()\n",
    "plt.show()"
   ],
   "id": "81c9c86fdcd9ef63",
   "outputs": [
    {
     "data": {
      "text/plain": [
       "<Figure size 1200x1600 with 24 Axes>"
      ],
      "image/png": "[encoded data removed]"
     },
     "metadata": {},
     "output_type": "display_data"
    }
   ],
   "execution_count": 32
  },
  {
   "metadata": {},
   "cell_type": "markdown",
   "source": "The above code block visualizes the model's predictions on a subset of the test set. The left column shows the input images, while the right column displays the model's predicted probabilities for each digit (0-9).",
   "id": "d266625db8103406"
  }
 ],
 "metadata": {
  "kernelspec": {
   "display_name": "Python 3",
   "language": "python",
   "name": "python3"
  },
  "language_info": {
   "codemirror_mode": {
    "name": "ipython",
    "version": 2
   },
   "file_extension": ".py",
   "mimetype": "text/x-python",
   "name": "python",
   "nbconvert_exporter": "python",
   "pygments_lexer": "ipython2",
   "version": "2.7.6"
  }
 },
 "nbformat": 4,
 "nbformat_minor": 5
}
